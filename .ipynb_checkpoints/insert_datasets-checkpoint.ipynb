{
 "cells": [
  {
   "cell_type": "markdown",
   "metadata": {},
   "source": [
    "## Insert PatientDatasets into Database\n",
    "- [ ] exp.json => Exps\n",
    "- [ ] info.json => Patients\n",
    "- [ ] normal.csv => Inspections"
   ]
  },
  {
   "cell_type": "code",
   "execution_count": 1,
   "metadata": {},
   "outputs": [],
   "source": [
    "import pandas as pd\n",
    "import json\n",
    "import glob\n",
    "import os\n",
    "from IPython.display import display"
   ]
  },
  {
   "cell_type": "code",
   "execution_count": 2,
   "metadata": {},
   "outputs": [],
   "source": [
    "from django.shortcuts import render, get_object_or_404, get_list_or_404"
   ]
  },
  {
   "cell_type": "code",
   "execution_count": 3,
   "metadata": {},
   "outputs": [],
   "source": [
    "def InsertPatient(info_json, patient_id):\n",
    "    info_json[\"patient_text\"] = \"patient \" + str(info_json[\"patient_id\"])\n",
    "    del info_json[\"patient_id\"]\n",
    "    result, created = Patient.objects.update_or_create(\n",
    "        id=patient_id,\n",
    "        defaults=info_json,\n",
    "    )\n",
    "\n",
    "def InsertExp(exp_json, patient_id):\n",
    "    \"\"\"\n",
    "    ExpをDatabaseにInsert\n",
    "    arg:\n",
    "    exp_json ( = '{\"ALB t_0 < 3.3\": 0.1,\"BUN\": 0.05}')\n",
    "    \"\"\"\n",
    "    \n",
    "    for k, v in exp_json.items():\n",
    "        Exp.objects.update_or_create(\n",
    "            patient=Patient(patient_id),\n",
    "            cond_exp=k,\n",
    "            defaults={\"contribution\":v},\n",
    "        )\n",
    "\n",
    "        \n",
    "        \n",
    "def InsertInspection(patient_df, patient_id):\n",
    "    \"\"\"\n",
    "    InspectionをDatabaseにInsert\n",
    "    arg:\n",
    "    patient_df (require : index = Time, cloums = InspectionItems)\n",
    "    \"\"\"\n",
    "    \n",
    "    for item in patient_df:\n",
    "        for date, value in patient_df[item].items():\n",
    "            Inspection.objects.update_or_create(\n",
    "                patient=Patient(patient_id),\n",
    "                inspection_date = date,\n",
    "                inspection_item = item,\n",
    "                defaults={\"inspection_value\" : value},\n",
    "            )\n",
    "\n",
    "def insert_dataset():\n",
    "    head_dir = \"./PatientsDataset\"\n",
    "    query = \"patient*\"\n",
    "    normal_file = \"normal.csv\"\n",
    "    info_file = \"info.json\"\n",
    "    exp_html_file = \"exp.html\"\n",
    "    exp_json_file = \"exp.json\"\n",
    "    patient_dir_list = glob.glob(os.path.join(head_dir,query))\n",
    "    for patient_dir in patient_dir_list:\n",
    "        patient_id = int(os.path.basename(patient_dir)[7:])\n",
    "        normal_path = os.path.join(patient_dir, normal_file)\n",
    "        info_path = os.path.join(patient_dir, info_file)\n",
    "        exp_html_path = os.path.join(patient_dir, exp_html_file)\n",
    "        exp_json_path = os.path.join(patient_dir, exp_json_file)\n",
    "        patient_df = pd.read_csv(normal_path, index_col=0)\n",
    "        if patient_id == 10000:\n",
    "            pass\n",
    "        with open(info_path, \"r\") as f:\n",
    "            info_json = json.load(f)\n",
    "        with open(exp_json_path, \"r\") as f:\n",
    "            exp_json = json.load(f)\n",
    "        InsertPatient(info_json, patient_id)\n",
    "        InsertExp(exp_json, patient_id)\n",
    "        InsertInspection(patient_df, patient_id)\n",
    "        \n",
    "        "
   ]
  },
  {
   "cell_type": "code",
   "execution_count": 4,
   "metadata": {},
   "outputs": [
    {
     "ename": "IntegrityError",
     "evalue": "FOREIGN KEY constraint failed",
     "output_type": "error",
     "traceback": [
      "\u001b[0;31m---------------------------------------------------------------------------\u001b[0m",
      "\u001b[0;31mIntegrityError\u001b[0m                            Traceback (most recent call last)",
      "\u001b[0;32m/Users/yohei/.pyenv/versions/anaconda3-5.2.0/envs/lab/lib/python3.6/site-packages/django/db/backends/base/base.py\u001b[0m in \u001b[0;36m_commit\u001b[0;34m(self)\u001b[0m\n\u001b[1;32m    238\u001b[0m             \u001b[0;32mwith\u001b[0m \u001b[0mself\u001b[0m\u001b[0;34m.\u001b[0m\u001b[0mwrap_database_errors\u001b[0m\u001b[0;34m:\u001b[0m\u001b[0;34m\u001b[0m\u001b[0m\n\u001b[0;32m--> 239\u001b[0;31m                 \u001b[0;32mreturn\u001b[0m \u001b[0mself\u001b[0m\u001b[0;34m.\u001b[0m\u001b[0mconnection\u001b[0m\u001b[0;34m.\u001b[0m\u001b[0mcommit\u001b[0m\u001b[0;34m(\u001b[0m\u001b[0;34m)\u001b[0m\u001b[0;34m\u001b[0m\u001b[0m\n\u001b[0m\u001b[1;32m    240\u001b[0m \u001b[0;34m\u001b[0m\u001b[0m\n",
      "\u001b[0;31mIntegrityError\u001b[0m: FOREIGN KEY constraint failed",
      "\nThe above exception was the direct cause of the following exception:\n",
      "\u001b[0;31mIntegrityError\u001b[0m                            Traceback (most recent call last)",
      "\u001b[0;32m<ipython-input-4-52b5bd1811b8>\u001b[0m in \u001b[0;36m<module>\u001b[0;34m()\u001b[0m\n\u001b[0;32m----> 1\u001b[0;31m \u001b[0minsert_dataset\u001b[0m\u001b[0;34m(\u001b[0m\u001b[0;34m)\u001b[0m\u001b[0;34m\u001b[0m\u001b[0m\n\u001b[0m",
      "\u001b[0;32m<ipython-input-3-533035fe650b>\u001b[0m in \u001b[0;36minsert_dataset\u001b[0;34m()\u001b[0m\n\u001b[1;32m     60\u001b[0m         \u001b[0;32mwith\u001b[0m \u001b[0mopen\u001b[0m\u001b[0;34m(\u001b[0m\u001b[0mexp_json_path\u001b[0m\u001b[0;34m,\u001b[0m \u001b[0;34m\"r\"\u001b[0m\u001b[0;34m)\u001b[0m \u001b[0;32mas\u001b[0m \u001b[0mf\u001b[0m\u001b[0;34m:\u001b[0m\u001b[0;34m\u001b[0m\u001b[0m\n\u001b[1;32m     61\u001b[0m             \u001b[0mexp_json\u001b[0m \u001b[0;34m=\u001b[0m \u001b[0mjson\u001b[0m\u001b[0;34m.\u001b[0m\u001b[0mload\u001b[0m\u001b[0;34m(\u001b[0m\u001b[0mf\u001b[0m\u001b[0;34m)\u001b[0m\u001b[0;34m\u001b[0m\u001b[0m\n\u001b[0;32m---> 62\u001b[0;31m         \u001b[0mInsertInspection\u001b[0m\u001b[0;34m(\u001b[0m\u001b[0mpatient_df\u001b[0m\u001b[0;34m,\u001b[0m \u001b[0mpatient_id\u001b[0m\u001b[0;34m)\u001b[0m\u001b[0;34m\u001b[0m\u001b[0m\n\u001b[0m\u001b[1;32m     63\u001b[0m         \u001b[0mInsertPatient\u001b[0m\u001b[0;34m(\u001b[0m\u001b[0minfo_json\u001b[0m\u001b[0;34m,\u001b[0m \u001b[0mpatient_id\u001b[0m\u001b[0;34m)\u001b[0m\u001b[0;34m\u001b[0m\u001b[0m\n\u001b[1;32m     64\u001b[0m         \u001b[0mInsertExp\u001b[0m\u001b[0;34m(\u001b[0m\u001b[0mexp_json\u001b[0m\u001b[0;34m,\u001b[0m \u001b[0mpatient_id\u001b[0m\u001b[0;34m)\u001b[0m\u001b[0;34m\u001b[0m\u001b[0m\n",
      "\u001b[0;32m<ipython-input-3-533035fe650b>\u001b[0m in \u001b[0;36mInsertInspection\u001b[0;34m(patient_df, patient_id)\u001b[0m\n\u001b[1;32m     36\u001b[0m                 \u001b[0minspection_date\u001b[0m \u001b[0;34m=\u001b[0m \u001b[0mdate\u001b[0m\u001b[0;34m,\u001b[0m\u001b[0;34m\u001b[0m\u001b[0m\n\u001b[1;32m     37\u001b[0m                 \u001b[0minspection_item\u001b[0m \u001b[0;34m=\u001b[0m \u001b[0mitem\u001b[0m\u001b[0;34m,\u001b[0m\u001b[0;34m\u001b[0m\u001b[0m\n\u001b[0;32m---> 38\u001b[0;31m                 \u001b[0mdefaults\u001b[0m\u001b[0;34m=\u001b[0m\u001b[0;34m{\u001b[0m\u001b[0;34m\"inspection_value\"\u001b[0m \u001b[0;34m:\u001b[0m \u001b[0mvalue\u001b[0m\u001b[0;34m}\u001b[0m\u001b[0;34m,\u001b[0m\u001b[0;34m\u001b[0m\u001b[0m\n\u001b[0m\u001b[1;32m     39\u001b[0m             )\n\u001b[1;32m     40\u001b[0m \u001b[0;34m\u001b[0m\u001b[0m\n",
      "\u001b[0;32m/Users/yohei/.pyenv/versions/anaconda3-5.2.0/envs/lab/lib/python3.6/site-packages/django/db/models/manager.py\u001b[0m in \u001b[0;36mmanager_method\u001b[0;34m(self, *args, **kwargs)\u001b[0m\n\u001b[1;32m     80\u001b[0m         \u001b[0;32mdef\u001b[0m \u001b[0mcreate_method\u001b[0m\u001b[0;34m(\u001b[0m\u001b[0mname\u001b[0m\u001b[0;34m,\u001b[0m \u001b[0mmethod\u001b[0m\u001b[0;34m)\u001b[0m\u001b[0;34m:\u001b[0m\u001b[0;34m\u001b[0m\u001b[0m\n\u001b[1;32m     81\u001b[0m             \u001b[0;32mdef\u001b[0m \u001b[0mmanager_method\u001b[0m\u001b[0;34m(\u001b[0m\u001b[0mself\u001b[0m\u001b[0;34m,\u001b[0m \u001b[0;34m*\u001b[0m\u001b[0margs\u001b[0m\u001b[0;34m,\u001b[0m \u001b[0;34m**\u001b[0m\u001b[0mkwargs\u001b[0m\u001b[0;34m)\u001b[0m\u001b[0;34m:\u001b[0m\u001b[0;34m\u001b[0m\u001b[0m\n\u001b[0;32m---> 82\u001b[0;31m                 \u001b[0;32mreturn\u001b[0m \u001b[0mgetattr\u001b[0m\u001b[0;34m(\u001b[0m\u001b[0mself\u001b[0m\u001b[0;34m.\u001b[0m\u001b[0mget_queryset\u001b[0m\u001b[0;34m(\u001b[0m\u001b[0;34m)\u001b[0m\u001b[0;34m,\u001b[0m \u001b[0mname\u001b[0m\u001b[0;34m)\u001b[0m\u001b[0;34m(\u001b[0m\u001b[0;34m*\u001b[0m\u001b[0margs\u001b[0m\u001b[0;34m,\u001b[0m \u001b[0;34m**\u001b[0m\u001b[0mkwargs\u001b[0m\u001b[0;34m)\u001b[0m\u001b[0;34m\u001b[0m\u001b[0m\n\u001b[0m\u001b[1;32m     83\u001b[0m             \u001b[0mmanager_method\u001b[0m\u001b[0;34m.\u001b[0m\u001b[0m__name__\u001b[0m \u001b[0;34m=\u001b[0m \u001b[0mmethod\u001b[0m\u001b[0;34m.\u001b[0m\u001b[0m__name__\u001b[0m\u001b[0;34m\u001b[0m\u001b[0m\n\u001b[1;32m     84\u001b[0m             \u001b[0mmanager_method\u001b[0m\u001b[0;34m.\u001b[0m\u001b[0m__doc__\u001b[0m \u001b[0;34m=\u001b[0m \u001b[0mmethod\u001b[0m\u001b[0;34m.\u001b[0m\u001b[0m__doc__\u001b[0m\u001b[0;34m\u001b[0m\u001b[0m\n",
      "\u001b[0;32m/Users/yohei/.pyenv/versions/anaconda3-5.2.0/envs/lab/lib/python3.6/site-packages/django/db/models/query.py\u001b[0m in \u001b[0;36mupdate_or_create\u001b[0;34m(self, defaults, **kwargs)\u001b[0m\n\u001b[1;32m    509\u001b[0m             \u001b[0;32mfor\u001b[0m \u001b[0mk\u001b[0m\u001b[0;34m,\u001b[0m \u001b[0mv\u001b[0m \u001b[0;32min\u001b[0m \u001b[0mdefaults\u001b[0m\u001b[0;34m.\u001b[0m\u001b[0mitems\u001b[0m\u001b[0;34m(\u001b[0m\u001b[0;34m)\u001b[0m\u001b[0;34m:\u001b[0m\u001b[0;34m\u001b[0m\u001b[0m\n\u001b[1;32m    510\u001b[0m                 \u001b[0msetattr\u001b[0m\u001b[0;34m(\u001b[0m\u001b[0mobj\u001b[0m\u001b[0;34m,\u001b[0m \u001b[0mk\u001b[0m\u001b[0;34m,\u001b[0m \u001b[0mv\u001b[0m\u001b[0;34m(\u001b[0m\u001b[0;34m)\u001b[0m \u001b[0;32mif\u001b[0m \u001b[0mcallable\u001b[0m\u001b[0;34m(\u001b[0m\u001b[0mv\u001b[0m\u001b[0;34m)\u001b[0m \u001b[0;32melse\u001b[0m \u001b[0mv\u001b[0m\u001b[0;34m)\u001b[0m\u001b[0;34m\u001b[0m\u001b[0m\n\u001b[0;32m--> 511\u001b[0;31m             \u001b[0mobj\u001b[0m\u001b[0;34m.\u001b[0m\u001b[0msave\u001b[0m\u001b[0;34m(\u001b[0m\u001b[0musing\u001b[0m\u001b[0;34m=\u001b[0m\u001b[0mself\u001b[0m\u001b[0;34m.\u001b[0m\u001b[0mdb\u001b[0m\u001b[0;34m)\u001b[0m\u001b[0;34m\u001b[0m\u001b[0m\n\u001b[0m\u001b[1;32m    512\u001b[0m         \u001b[0;32mreturn\u001b[0m \u001b[0mobj\u001b[0m\u001b[0;34m,\u001b[0m \u001b[0;32mFalse\u001b[0m\u001b[0;34m\u001b[0m\u001b[0m\n\u001b[1;32m    513\u001b[0m \u001b[0;34m\u001b[0m\u001b[0m\n",
      "\u001b[0;32m/Users/yohei/.pyenv/versions/anaconda3-5.2.0/envs/lab/lib/python3.6/site-packages/django/db/transaction.py\u001b[0m in \u001b[0;36m__exit__\u001b[0;34m(self, exc_type, exc_value, traceback)\u001b[0m\n\u001b[1;32m    210\u001b[0m                     \u001b[0;31m# Commit transaction\u001b[0m\u001b[0;34m\u001b[0m\u001b[0;34m\u001b[0m\u001b[0m\n\u001b[1;32m    211\u001b[0m                     \u001b[0;32mtry\u001b[0m\u001b[0;34m:\u001b[0m\u001b[0;34m\u001b[0m\u001b[0m\n\u001b[0;32m--> 212\u001b[0;31m                         \u001b[0mconnection\u001b[0m\u001b[0;34m.\u001b[0m\u001b[0mcommit\u001b[0m\u001b[0;34m(\u001b[0m\u001b[0;34m)\u001b[0m\u001b[0;34m\u001b[0m\u001b[0m\n\u001b[0m\u001b[1;32m    213\u001b[0m                     \u001b[0;32mexcept\u001b[0m \u001b[0mDatabaseError\u001b[0m\u001b[0;34m:\u001b[0m\u001b[0;34m\u001b[0m\u001b[0m\n\u001b[1;32m    214\u001b[0m                         \u001b[0;32mtry\u001b[0m\u001b[0;34m:\u001b[0m\u001b[0;34m\u001b[0m\u001b[0m\n",
      "\u001b[0;32m/Users/yohei/.pyenv/versions/anaconda3-5.2.0/envs/lab/lib/python3.6/site-packages/django/db/backends/base/base.py\u001b[0m in \u001b[0;36mcommit\u001b[0;34m(self)\u001b[0m\n\u001b[1;32m    259\u001b[0m         \u001b[0mself\u001b[0m\u001b[0;34m.\u001b[0m\u001b[0mvalidate_thread_sharing\u001b[0m\u001b[0;34m(\u001b[0m\u001b[0;34m)\u001b[0m\u001b[0;34m\u001b[0m\u001b[0m\n\u001b[1;32m    260\u001b[0m         \u001b[0mself\u001b[0m\u001b[0;34m.\u001b[0m\u001b[0mvalidate_no_atomic_block\u001b[0m\u001b[0;34m(\u001b[0m\u001b[0;34m)\u001b[0m\u001b[0;34m\u001b[0m\u001b[0m\n\u001b[0;32m--> 261\u001b[0;31m         \u001b[0mself\u001b[0m\u001b[0;34m.\u001b[0m\u001b[0m_commit\u001b[0m\u001b[0;34m(\u001b[0m\u001b[0;34m)\u001b[0m\u001b[0;34m\u001b[0m\u001b[0m\n\u001b[0m\u001b[1;32m    262\u001b[0m         \u001b[0;31m# A successful commit means that the database connection works.\u001b[0m\u001b[0;34m\u001b[0m\u001b[0;34m\u001b[0m\u001b[0m\n\u001b[1;32m    263\u001b[0m         \u001b[0mself\u001b[0m\u001b[0;34m.\u001b[0m\u001b[0merrors_occurred\u001b[0m \u001b[0;34m=\u001b[0m \u001b[0;32mFalse\u001b[0m\u001b[0;34m\u001b[0m\u001b[0m\n",
      "\u001b[0;32m/Users/yohei/.pyenv/versions/anaconda3-5.2.0/envs/lab/lib/python3.6/site-packages/django/db/backends/base/base.py\u001b[0m in \u001b[0;36m_commit\u001b[0;34m(self)\u001b[0m\n\u001b[1;32m    237\u001b[0m         \u001b[0;32mif\u001b[0m \u001b[0mself\u001b[0m\u001b[0;34m.\u001b[0m\u001b[0mconnection\u001b[0m \u001b[0;32mis\u001b[0m \u001b[0;32mnot\u001b[0m \u001b[0;32mNone\u001b[0m\u001b[0;34m:\u001b[0m\u001b[0;34m\u001b[0m\u001b[0m\n\u001b[1;32m    238\u001b[0m             \u001b[0;32mwith\u001b[0m \u001b[0mself\u001b[0m\u001b[0;34m.\u001b[0m\u001b[0mwrap_database_errors\u001b[0m\u001b[0;34m:\u001b[0m\u001b[0;34m\u001b[0m\u001b[0m\n\u001b[0;32m--> 239\u001b[0;31m                 \u001b[0;32mreturn\u001b[0m \u001b[0mself\u001b[0m\u001b[0;34m.\u001b[0m\u001b[0mconnection\u001b[0m\u001b[0;34m.\u001b[0m\u001b[0mcommit\u001b[0m\u001b[0;34m(\u001b[0m\u001b[0;34m)\u001b[0m\u001b[0;34m\u001b[0m\u001b[0m\n\u001b[0m\u001b[1;32m    240\u001b[0m \u001b[0;34m\u001b[0m\u001b[0m\n\u001b[1;32m    241\u001b[0m     \u001b[0;32mdef\u001b[0m \u001b[0m_rollback\u001b[0m\u001b[0;34m(\u001b[0m\u001b[0mself\u001b[0m\u001b[0;34m)\u001b[0m\u001b[0;34m:\u001b[0m\u001b[0;34m\u001b[0m\u001b[0m\n",
      "\u001b[0;32m/Users/yohei/.pyenv/versions/anaconda3-5.2.0/envs/lab/lib/python3.6/site-packages/django/db/utils.py\u001b[0m in \u001b[0;36m__exit__\u001b[0;34m(self, exc_type, exc_value, traceback)\u001b[0m\n\u001b[1;32m     87\u001b[0m                 \u001b[0;32mif\u001b[0m \u001b[0mdj_exc_type\u001b[0m \u001b[0;32mnot\u001b[0m \u001b[0;32min\u001b[0m \u001b[0;34m(\u001b[0m\u001b[0mDataError\u001b[0m\u001b[0;34m,\u001b[0m \u001b[0mIntegrityError\u001b[0m\u001b[0;34m)\u001b[0m\u001b[0;34m:\u001b[0m\u001b[0;34m\u001b[0m\u001b[0m\n\u001b[1;32m     88\u001b[0m                     \u001b[0mself\u001b[0m\u001b[0;34m.\u001b[0m\u001b[0mwrapper\u001b[0m\u001b[0;34m.\u001b[0m\u001b[0merrors_occurred\u001b[0m \u001b[0;34m=\u001b[0m \u001b[0;32mTrue\u001b[0m\u001b[0;34m\u001b[0m\u001b[0m\n\u001b[0;32m---> 89\u001b[0;31m                 \u001b[0;32mraise\u001b[0m \u001b[0mdj_exc_value\u001b[0m\u001b[0;34m.\u001b[0m\u001b[0mwith_traceback\u001b[0m\u001b[0;34m(\u001b[0m\u001b[0mtraceback\u001b[0m\u001b[0;34m)\u001b[0m \u001b[0;32mfrom\u001b[0m \u001b[0mexc_value\u001b[0m\u001b[0;34m\u001b[0m\u001b[0m\n\u001b[0m\u001b[1;32m     90\u001b[0m \u001b[0;34m\u001b[0m\u001b[0m\n\u001b[1;32m     91\u001b[0m     \u001b[0;32mdef\u001b[0m \u001b[0m__call__\u001b[0m\u001b[0;34m(\u001b[0m\u001b[0mself\u001b[0m\u001b[0;34m,\u001b[0m \u001b[0mfunc\u001b[0m\u001b[0;34m)\u001b[0m\u001b[0;34m:\u001b[0m\u001b[0;34m\u001b[0m\u001b[0m\n",
      "\u001b[0;32m/Users/yohei/.pyenv/versions/anaconda3-5.2.0/envs/lab/lib/python3.6/site-packages/django/db/backends/base/base.py\u001b[0m in \u001b[0;36m_commit\u001b[0;34m(self)\u001b[0m\n\u001b[1;32m    237\u001b[0m         \u001b[0;32mif\u001b[0m \u001b[0mself\u001b[0m\u001b[0;34m.\u001b[0m\u001b[0mconnection\u001b[0m \u001b[0;32mis\u001b[0m \u001b[0;32mnot\u001b[0m \u001b[0;32mNone\u001b[0m\u001b[0;34m:\u001b[0m\u001b[0;34m\u001b[0m\u001b[0m\n\u001b[1;32m    238\u001b[0m             \u001b[0;32mwith\u001b[0m \u001b[0mself\u001b[0m\u001b[0;34m.\u001b[0m\u001b[0mwrap_database_errors\u001b[0m\u001b[0;34m:\u001b[0m\u001b[0;34m\u001b[0m\u001b[0m\n\u001b[0;32m--> 239\u001b[0;31m                 \u001b[0;32mreturn\u001b[0m \u001b[0mself\u001b[0m\u001b[0;34m.\u001b[0m\u001b[0mconnection\u001b[0m\u001b[0;34m.\u001b[0m\u001b[0mcommit\u001b[0m\u001b[0;34m(\u001b[0m\u001b[0;34m)\u001b[0m\u001b[0;34m\u001b[0m\u001b[0m\n\u001b[0m\u001b[1;32m    240\u001b[0m \u001b[0;34m\u001b[0m\u001b[0m\n\u001b[1;32m    241\u001b[0m     \u001b[0;32mdef\u001b[0m \u001b[0m_rollback\u001b[0m\u001b[0;34m(\u001b[0m\u001b[0mself\u001b[0m\u001b[0;34m)\u001b[0m\u001b[0;34m:\u001b[0m\u001b[0;34m\u001b[0m\u001b[0m\n",
      "\u001b[0;31mIntegrityError\u001b[0m: FOREIGN KEY constraint failed"
     ]
    }
   ],
   "source": [
    "insert_dataset()"
   ]
  },
  {
   "cell_type": "code",
   "execution_count": null,
   "metadata": {},
   "outputs": [],
   "source": []
  },
  {
   "cell_type": "markdown",
   "metadata": {},
   "source": [
    "## Test\n",
    "色々実験する"
   ]
  },
  {
   "cell_type": "code",
   "execution_count": 54,
   "metadata": {},
   "outputs": [],
   "source": [
    "test_list = get_list_or_404(Inspection, patient=10001)"
   ]
  },
  {
   "cell_type": "code",
   "execution_count": 57,
   "metadata": {},
   "outputs": [
    {
     "data": {
      "text/plain": [
       "[<Inspection: name:patient 10001 | date:2019-11-14 | item:ALB>,\n",
       " <Inspection: name:patient 10001 | date:2019-11-15 | item:ALB>,\n",
       " <Inspection: name:patient 10001 | date:2019-11-16 | item:ALB>,\n",
       " <Inspection: name:patient 10001 | date:2019-11-17 | item:ALB>,\n",
       " <Inspection: name:patient 10001 | date:2019-11-18 | item:ALB>,\n",
       " <Inspection: name:patient 10001 | date:2019-11-19 | item:ALB>,\n",
       " <Inspection: name:patient 10001 | date:2019-11-20 | item:ALB>,\n",
       " <Inspection: name:patient 10001 | date:2019-11-21 | item:ALB>,\n",
       " <Inspection: name:patient 10001 | date:2019-11-22 | item:ALB>,\n",
       " <Inspection: name:patient 10001 | date:2019-11-23 | item:ALB>,\n",
       " <Inspection: name:patient 10001 | date:2019-11-24 | item:ALB>,\n",
       " <Inspection: name:patient 10001 | date:2019-11-25 | item:ALB>,\n",
       " <Inspection: name:patient 10001 | date:2019-11-26 | item:ALB>,\n",
       " <Inspection: name:patient 10001 | date:2019-11-14 | item:BUN>,\n",
       " <Inspection: name:patient 10001 | date:2019-11-15 | item:BUN>,\n",
       " <Inspection: name:patient 10001 | date:2019-11-16 | item:BUN>,\n",
       " <Inspection: name:patient 10001 | date:2019-11-17 | item:BUN>,\n",
       " <Inspection: name:patient 10001 | date:2019-11-18 | item:BUN>,\n",
       " <Inspection: name:patient 10001 | date:2019-11-19 | item:BUN>,\n",
       " <Inspection: name:patient 10001 | date:2019-11-20 | item:BUN>,\n",
       " <Inspection: name:patient 10001 | date:2019-11-21 | item:BUN>,\n",
       " <Inspection: name:patient 10001 | date:2019-11-22 | item:BUN>,\n",
       " <Inspection: name:patient 10001 | date:2019-11-23 | item:BUN>,\n",
       " <Inspection: name:patient 10001 | date:2019-11-24 | item:BUN>,\n",
       " <Inspection: name:patient 10001 | date:2019-11-25 | item:BUN>,\n",
       " <Inspection: name:patient 10001 | date:2019-11-26 | item:BUN>,\n",
       " <Inspection: name:patient 10001 | date:2019-11-14 | item:CRE>,\n",
       " <Inspection: name:patient 10001 | date:2019-11-15 | item:CRE>,\n",
       " <Inspection: name:patient 10001 | date:2019-11-16 | item:CRE>,\n",
       " <Inspection: name:patient 10001 | date:2019-11-17 | item:CRE>,\n",
       " <Inspection: name:patient 10001 | date:2019-11-18 | item:CRE>,\n",
       " <Inspection: name:patient 10001 | date:2019-11-19 | item:CRE>,\n",
       " <Inspection: name:patient 10001 | date:2019-11-20 | item:CRE>,\n",
       " <Inspection: name:patient 10001 | date:2019-11-21 | item:CRE>,\n",
       " <Inspection: name:patient 10001 | date:2019-11-22 | item:CRE>,\n",
       " <Inspection: name:patient 10001 | date:2019-11-23 | item:CRE>,\n",
       " <Inspection: name:patient 10001 | date:2019-11-24 | item:CRE>,\n",
       " <Inspection: name:patient 10001 | date:2019-11-25 | item:CRE>,\n",
       " <Inspection: name:patient 10001 | date:2019-11-26 | item:CRE>,\n",
       " <Inspection: name:patient 10001 | date:2019-11-14 | item:CRP>,\n",
       " <Inspection: name:patient 10001 | date:2019-11-15 | item:CRP>,\n",
       " <Inspection: name:patient 10001 | date:2019-11-16 | item:CRP>,\n",
       " <Inspection: name:patient 10001 | date:2019-11-17 | item:CRP>,\n",
       " <Inspection: name:patient 10001 | date:2019-11-18 | item:CRP>,\n",
       " <Inspection: name:patient 10001 | date:2019-11-19 | item:CRP>,\n",
       " <Inspection: name:patient 10001 | date:2019-11-20 | item:CRP>,\n",
       " <Inspection: name:patient 10001 | date:2019-11-21 | item:CRP>,\n",
       " <Inspection: name:patient 10001 | date:2019-11-22 | item:CRP>,\n",
       " <Inspection: name:patient 10001 | date:2019-11-23 | item:CRP>,\n",
       " <Inspection: name:patient 10001 | date:2019-11-24 | item:CRP>,\n",
       " <Inspection: name:patient 10001 | date:2019-11-25 | item:CRP>,\n",
       " <Inspection: name:patient 10001 | date:2019-11-26 | item:CRP>,\n",
       " <Inspection: name:patient 10001 | date:2019-11-14 | item:Ca>,\n",
       " <Inspection: name:patient 10001 | date:2019-11-15 | item:Ca>,\n",
       " <Inspection: name:patient 10001 | date:2019-11-16 | item:Ca>,\n",
       " <Inspection: name:patient 10001 | date:2019-11-17 | item:Ca>,\n",
       " <Inspection: name:patient 10001 | date:2019-11-18 | item:Ca>,\n",
       " <Inspection: name:patient 10001 | date:2019-11-19 | item:Ca>,\n",
       " <Inspection: name:patient 10001 | date:2019-11-20 | item:Ca>,\n",
       " <Inspection: name:patient 10001 | date:2019-11-21 | item:Ca>,\n",
       " <Inspection: name:patient 10001 | date:2019-11-22 | item:Ca>,\n",
       " <Inspection: name:patient 10001 | date:2019-11-23 | item:Ca>,\n",
       " <Inspection: name:patient 10001 | date:2019-11-24 | item:Ca>,\n",
       " <Inspection: name:patient 10001 | date:2019-11-25 | item:Ca>,\n",
       " <Inspection: name:patient 10001 | date:2019-11-26 | item:Ca>,\n",
       " <Inspection: name:patient 10001 | date:2019-11-14 | item:Cl>,\n",
       " <Inspection: name:patient 10001 | date:2019-11-15 | item:Cl>,\n",
       " <Inspection: name:patient 10001 | date:2019-11-16 | item:Cl>,\n",
       " <Inspection: name:patient 10001 | date:2019-11-17 | item:Cl>,\n",
       " <Inspection: name:patient 10001 | date:2019-11-18 | item:Cl>,\n",
       " <Inspection: name:patient 10001 | date:2019-11-19 | item:Cl>,\n",
       " <Inspection: name:patient 10001 | date:2019-11-20 | item:Cl>,\n",
       " <Inspection: name:patient 10001 | date:2019-11-21 | item:Cl>,\n",
       " <Inspection: name:patient 10001 | date:2019-11-22 | item:Cl>,\n",
       " <Inspection: name:patient 10001 | date:2019-11-23 | item:Cl>,\n",
       " <Inspection: name:patient 10001 | date:2019-11-24 | item:Cl>,\n",
       " <Inspection: name:patient 10001 | date:2019-11-25 | item:Cl>,\n",
       " <Inspection: name:patient 10001 | date:2019-11-26 | item:Cl>,\n",
       " <Inspection: name:patient 10001 | date:2019-11-14 | item:IP>,\n",
       " <Inspection: name:patient 10001 | date:2019-11-15 | item:IP>,\n",
       " <Inspection: name:patient 10001 | date:2019-11-16 | item:IP>,\n",
       " <Inspection: name:patient 10001 | date:2019-11-17 | item:IP>,\n",
       " <Inspection: name:patient 10001 | date:2019-11-18 | item:IP>,\n",
       " <Inspection: name:patient 10001 | date:2019-11-19 | item:IP>,\n",
       " <Inspection: name:patient 10001 | date:2019-11-20 | item:IP>,\n",
       " <Inspection: name:patient 10001 | date:2019-11-21 | item:IP>,\n",
       " <Inspection: name:patient 10001 | date:2019-11-22 | item:IP>,\n",
       " <Inspection: name:patient 10001 | date:2019-11-23 | item:IP>,\n",
       " <Inspection: name:patient 10001 | date:2019-11-24 | item:IP>,\n",
       " <Inspection: name:patient 10001 | date:2019-11-25 | item:IP>,\n",
       " <Inspection: name:patient 10001 | date:2019-11-26 | item:IP>,\n",
       " <Inspection: name:patient 10001 | date:2019-11-14 | item:K>,\n",
       " <Inspection: name:patient 10001 | date:2019-11-15 | item:K>,\n",
       " <Inspection: name:patient 10001 | date:2019-11-16 | item:K>,\n",
       " <Inspection: name:patient 10001 | date:2019-11-17 | item:K>,\n",
       " <Inspection: name:patient 10001 | date:2019-11-18 | item:K>,\n",
       " <Inspection: name:patient 10001 | date:2019-11-19 | item:K>,\n",
       " <Inspection: name:patient 10001 | date:2019-11-20 | item:K>,\n",
       " <Inspection: name:patient 10001 | date:2019-11-21 | item:K>,\n",
       " <Inspection: name:patient 10001 | date:2019-11-22 | item:K>,\n",
       " <Inspection: name:patient 10001 | date:2019-11-23 | item:K>,\n",
       " <Inspection: name:patient 10001 | date:2019-11-24 | item:K>,\n",
       " <Inspection: name:patient 10001 | date:2019-11-25 | item:K>,\n",
       " <Inspection: name:patient 10001 | date:2019-11-26 | item:K>,\n",
       " <Inspection: name:patient 10001 | date:2019-11-14 | item:Na>,\n",
       " <Inspection: name:patient 10001 | date:2019-11-15 | item:Na>,\n",
       " <Inspection: name:patient 10001 | date:2019-11-16 | item:Na>,\n",
       " <Inspection: name:patient 10001 | date:2019-11-17 | item:Na>,\n",
       " <Inspection: name:patient 10001 | date:2019-11-18 | item:Na>,\n",
       " <Inspection: name:patient 10001 | date:2019-11-19 | item:Na>,\n",
       " <Inspection: name:patient 10001 | date:2019-11-20 | item:Na>,\n",
       " <Inspection: name:patient 10001 | date:2019-11-21 | item:Na>,\n",
       " <Inspection: name:patient 10001 | date:2019-11-22 | item:Na>,\n",
       " <Inspection: name:patient 10001 | date:2019-11-23 | item:Na>,\n",
       " <Inspection: name:patient 10001 | date:2019-11-24 | item:Na>,\n",
       " <Inspection: name:patient 10001 | date:2019-11-25 | item:Na>,\n",
       " <Inspection: name:patient 10001 | date:2019-11-26 | item:Na>,\n",
       " <Inspection: name:patient 10001 | date:2019-11-14 | item:T-CHO>,\n",
       " <Inspection: name:patient 10001 | date:2019-11-15 | item:T-CHO>,\n",
       " <Inspection: name:patient 10001 | date:2019-11-16 | item:T-CHO>,\n",
       " <Inspection: name:patient 10001 | date:2019-11-17 | item:T-CHO>,\n",
       " <Inspection: name:patient 10001 | date:2019-11-18 | item:T-CHO>,\n",
       " <Inspection: name:patient 10001 | date:2019-11-19 | item:T-CHO>,\n",
       " <Inspection: name:patient 10001 | date:2019-11-20 | item:T-CHO>,\n",
       " <Inspection: name:patient 10001 | date:2019-11-21 | item:T-CHO>,\n",
       " <Inspection: name:patient 10001 | date:2019-11-22 | item:T-CHO>,\n",
       " <Inspection: name:patient 10001 | date:2019-11-23 | item:T-CHO>,\n",
       " <Inspection: name:patient 10001 | date:2019-11-24 | item:T-CHO>,\n",
       " <Inspection: name:patient 10001 | date:2019-11-25 | item:T-CHO>,\n",
       " <Inspection: name:patient 10001 | date:2019-11-26 | item:T-CHO>,\n",
       " <Inspection: name:patient 10001 | date:2019-11-14 | item:PCR>,\n",
       " <Inspection: name:patient 10001 | date:2019-11-15 | item:PCR>,\n",
       " <Inspection: name:patient 10001 | date:2019-11-16 | item:PCR>,\n",
       " <Inspection: name:patient 10001 | date:2019-11-17 | item:PCR>,\n",
       " <Inspection: name:patient 10001 | date:2019-11-18 | item:PCR>,\n",
       " <Inspection: name:patient 10001 | date:2019-11-19 | item:PCR>,\n",
       " <Inspection: name:patient 10001 | date:2019-11-20 | item:PCR>,\n",
       " <Inspection: name:patient 10001 | date:2019-11-21 | item:PCR>,\n",
       " <Inspection: name:patient 10001 | date:2019-11-22 | item:PCR>,\n",
       " <Inspection: name:patient 10001 | date:2019-11-23 | item:PCR>,\n",
       " <Inspection: name:patient 10001 | date:2019-11-24 | item:PCR>,\n",
       " <Inspection: name:patient 10001 | date:2019-11-25 | item:PCR>,\n",
       " <Inspection: name:patient 10001 | date:2019-11-26 | item:PCR>,\n",
       " <Inspection: name:patient 10001 | date:2019-11-14 | item:TP>,\n",
       " <Inspection: name:patient 10001 | date:2019-11-15 | item:TP>,\n",
       " <Inspection: name:patient 10001 | date:2019-11-16 | item:TP>,\n",
       " <Inspection: name:patient 10001 | date:2019-11-17 | item:TP>,\n",
       " <Inspection: name:patient 10001 | date:2019-11-18 | item:TP>,\n",
       " <Inspection: name:patient 10001 | date:2019-11-19 | item:TP>,\n",
       " <Inspection: name:patient 10001 | date:2019-11-20 | item:TP>,\n",
       " <Inspection: name:patient 10001 | date:2019-11-21 | item:TP>,\n",
       " <Inspection: name:patient 10001 | date:2019-11-22 | item:TP>,\n",
       " <Inspection: name:patient 10001 | date:2019-11-23 | item:TP>,\n",
       " <Inspection: name:patient 10001 | date:2019-11-24 | item:TP>,\n",
       " <Inspection: name:patient 10001 | date:2019-11-25 | item:TP>,\n",
       " <Inspection: name:patient 10001 | date:2019-11-26 | item:TP>,\n",
       " <Inspection: name:patient 10001 | date:2020-07-13 | item:ALB>,\n",
       " <Inspection: name:patient 10001 | date:2020-07-13 | item:BUN>,\n",
       " <Inspection: name:patient 10001 | date:2020-07-13 | item:CRE>,\n",
       " <Inspection: name:patient 10001 | date:2020-07-13 | item:CRP>,\n",
       " <Inspection: name:patient 10001 | date:2020-07-13 | item:Ca>,\n",
       " <Inspection: name:patient 10001 | date:2020-07-13 | item:Cl>,\n",
       " <Inspection: name:patient 10001 | date:2020-07-13 | item:IP>,\n",
       " <Inspection: name:patient 10001 | date:2020-07-13 | item:K>,\n",
       " <Inspection: name:patient 10001 | date:2020-07-13 | item:Na>,\n",
       " <Inspection: name:patient 10001 | date:2020-07-13 | item:T-CHO>,\n",
       " <Inspection: name:patient 10001 | date:2020-07-13 | item:PCR>,\n",
       " <Inspection: name:patient 10001 | date:2020-07-13 | item:TP>]"
      ]
     },
     "execution_count": 57,
     "metadata": {},
     "output_type": "execute_result"
    }
   ],
   "source": [
    "test_list"
   ]
  },
  {
   "cell_type": "code",
   "execution_count": 39,
   "metadata": {},
   "outputs": [],
   "source": [
    "test = Inspection.objects.filter(patient=10001, inspection_item=\"ALB\").values_list(\"inspection_date\", flat=True)"
   ]
  },
  {
   "cell_type": "code",
   "execution_count": 40,
   "metadata": {},
   "outputs": [
    {
     "name": "stdout",
     "output_type": "stream",
     "text": [
      "2019-11-14\n",
      "2019-11-15\n",
      "2019-11-16\n",
      "2019-11-17\n",
      "2019-11-18\n",
      "2019-11-19\n",
      "2019-11-20\n",
      "2019-11-21\n",
      "2019-11-22\n",
      "2019-11-23\n",
      "2019-11-24\n",
      "2019-11-25\n",
      "2019-11-26\n",
      "2020-07-13\n"
     ]
    }
   ],
   "source": [
    "for w in test:\n",
    "    print(w)"
   ]
  },
  {
   "cell_type": "code",
   "execution_count": 68,
   "metadata": {},
   "outputs": [],
   "source": [
    "inspections = Inspection.objects.filter(patient=10001).order_by(\"inspection_item\", \"inspection_date\")"
   ]
  },
  {
   "cell_type": "code",
   "execution_count": 78,
   "metadata": {},
   "outputs": [],
   "source": [
    "item_list = [\"ALB\",\"BUN\",\"CRE\",\"CRP\",\"Ca\",\"Cl\",\"IP\",\"K\",\"Na\",\"T-CHO\",\"PCR\", \"TP\"]"
   ]
  },
  {
   "cell_type": "code",
   "execution_count": 82,
   "metadata": {},
   "outputs": [],
   "source": [
    "patient_id = 10001"
   ]
  },
  {
   "cell_type": "code",
   "execution_count": 83,
   "metadata": {},
   "outputs": [],
   "source": [
    "inspection_array = [Inspection.objects.filter(patient=patient_id, inspection_item=item).order_by(\"inspection_item\").values_list(\"inspection_value\", flat=True) for item in item_list]"
   ]
  },
  {
   "cell_type": "code",
   "execution_count": 93,
   "metadata": {},
   "outputs": [
    {
     "name": "stdout",
     "output_type": "stream",
     "text": [
      "532.7264744400383\n",
      "868.6708342917128\n",
      "643.2449991513897\n",
      "741.2646839361197\n",
      "1071.7092420905212\n",
      "1018.8984955336026\n",
      "1045.1286128059241\n",
      "231.01155425407208\n",
      "1053.588974795359\n",
      "876.1678292660613\n",
      "777.847931829908\n",
      "1109.0951806553371\n",
      "770.2579246010814\n",
      "None\n"
     ]
    }
   ],
   "source": [
    "for w in inspection_array[-2]:\n",
    "    print(w)"
   ]
  },
  {
   "cell_type": "code",
   "execution_count": 62,
   "metadata": {},
   "outputs": [
    {
     "name": "stdout",
     "output_type": "stream",
     "text": [
      "2019-11-14\n",
      "2019-11-15\n",
      "2019-11-16\n",
      "2019-11-17\n",
      "2019-11-18\n",
      "2019-11-19\n",
      "2019-11-20\n",
      "2019-11-21\n",
      "2019-11-22\n",
      "2019-11-23\n",
      "2019-11-24\n",
      "2019-11-25\n",
      "2019-11-26\n",
      "2020-07-13\n"
     ]
    }
   ],
   "source": [
    "for date in inspections.order_by(\"inspection_date\").values_list(\"inspection_date\", flat=True).distinct():\n",
    "    print(date)"
   ]
  },
  {
   "cell_type": "code",
   "execution_count": 66,
   "metadata": {},
   "outputs": [],
   "source": [
    "oneitem_inspection_list = inspections.get(inspection_item=\"ALB\", inspection_date=\"2019-11-14\")"
   ]
  },
  {
   "cell_type": "code",
   "execution_count": 67,
   "metadata": {},
   "outputs": [
    {
     "data": {
      "text/plain": [
       "4.1361581563891665"
      ]
     },
     "execution_count": 67,
     "metadata": {},
     "output_type": "execute_result"
    }
   ],
   "source": [
    "oneitem_inspection_list.inspection_value"
   ]
  },
  {
   "cell_type": "code",
   "execution_count": 15,
   "metadata": {},
   "outputs": [
    {
     "data": {
      "text/plain": [
       "<QuerySet [<Inspection: name:patient 10001 | date:2019-11-14 | item:ALB>, <Inspection: name:patient 10001 | date:2019-11-15 | item:ALB>, <Inspection: name:patient 10001 | date:2019-11-16 | item:ALB>, <Inspection: name:patient 10001 | date:2019-11-17 | item:ALB>, <Inspection: name:patient 10001 | date:2019-11-18 | item:ALB>, <Inspection: name:patient 10001 | date:2019-11-19 | item:ALB>, <Inspection: name:patient 10001 | date:2019-11-20 | item:ALB>, <Inspection: name:patient 10001 | date:2019-11-21 | item:ALB>, <Inspection: name:patient 10001 | date:2019-11-22 | item:ALB>, <Inspection: name:patient 10001 | date:2019-11-23 | item:ALB>, <Inspection: name:patient 10001 | date:2019-11-24 | item:ALB>, <Inspection: name:patient 10001 | date:2019-11-25 | item:ALB>, <Inspection: name:patient 10001 | date:2019-11-26 | item:ALB>, <Inspection: name:patient 10001 | date:2020-07-13 | item:ALB>]>"
      ]
     },
     "execution_count": 15,
     "metadata": {},
     "output_type": "execute_result"
    }
   ],
   "source": [
    "oneitem_inspection_list.order_by(\"inspection_date\")"
   ]
  },
  {
   "cell_type": "code",
   "execution_count": 18,
   "metadata": {},
   "outputs": [
    {
     "name": "stdout",
     "output_type": "stream",
     "text": [
      "name:patient 10001 | date:2019-11-14 | item:ALB\n",
      "name:patient 10001 | date:2019-11-15 | item:ALB\n",
      "name:patient 10001 | date:2019-11-16 | item:ALB\n",
      "name:patient 10001 | date:2019-11-17 | item:ALB\n",
      "name:patient 10001 | date:2019-11-18 | item:ALB\n",
      "name:patient 10001 | date:2019-11-19 | item:ALB\n",
      "name:patient 10001 | date:2019-11-20 | item:ALB\n",
      "name:patient 10001 | date:2019-11-21 | item:ALB\n",
      "name:patient 10001 | date:2019-11-22 | item:ALB\n",
      "name:patient 10001 | date:2019-11-23 | item:ALB\n",
      "name:patient 10001 | date:2019-11-24 | item:ALB\n",
      "name:patient 10001 | date:2019-11-25 | item:ALB\n",
      "name:patient 10001 | date:2019-11-26 | item:ALB\n",
      "name:patient 10001 | date:2020-07-13 | item:ALB\n"
     ]
    }
   ],
   "source": [
    "for w in oneitem_inspection_list.order_by(\"inspection_date\"):\n",
    "    print(w)"
   ]
  },
  {
   "cell_type": "code",
   "execution_count": 7,
   "metadata": {},
   "outputs": [
    {
     "data": {
      "text/plain": [
       "<QuerySet []>"
      ]
     },
     "execution_count": 7,
     "metadata": {},
     "output_type": "execute_result"
    }
   ],
   "source": [
    "insert_objs"
   ]
  },
  {
   "cell_type": "code",
   "execution_count": 26,
   "metadata": {},
   "outputs": [
    {
     "data": {
      "text/plain": [
       "True"
      ]
     },
     "execution_count": 26,
     "metadata": {},
     "output_type": "execute_result"
    }
   ],
   "source": [
    "os.path.exists(\"./PatientsDataset\")"
   ]
  },
  {
   "cell_type": "code",
   "execution_count": 27,
   "metadata": {},
   "outputs": [
    {
     "name": "stdout",
     "output_type": "stream",
     "text": [
      "\u001b[34mpatient10000\u001b[m\u001b[m \u001b[34mpatient10002\u001b[m\u001b[m \u001b[34mpatient10004\u001b[m\u001b[m \u001b[34mpatient10006\u001b[m\u001b[m \u001b[34mpatient10008\u001b[m\u001b[m\r\n",
      "\u001b[34mpatient10001\u001b[m\u001b[m \u001b[34mpatient10003\u001b[m\u001b[m \u001b[34mpatient10005\u001b[m\u001b[m \u001b[34mpatient10007\u001b[m\u001b[m \u001b[34mpatient10009\u001b[m\u001b[m\r\n"
     ]
    }
   ],
   "source": [
    "!ls PatientsDataset/"
   ]
  },
  {
   "cell_type": "code",
   "execution_count": 12,
   "metadata": {},
   "outputs": [],
   "source": [
    "test = './PatientsDataset/patient1'"
   ]
  },
  {
   "cell_type": "code",
   "execution_count": null,
   "metadata": {},
   "outputs": [],
   "source": []
  },
  {
   "cell_type": "code",
   "execution_count": 15,
   "metadata": {},
   "outputs": [
    {
     "data": {
      "text/plain": [
       "'1'"
      ]
     },
     "execution_count": 15,
     "metadata": {},
     "output_type": "execute_result"
    }
   ],
   "source": [
    "os.path.basename(test)[7:]"
   ]
  },
  {
   "cell_type": "code",
   "execution_count": 14,
   "metadata": {},
   "outputs": [],
   "source": [
    "import re"
   ]
  },
  {
   "cell_type": "code",
   "execution_count": null,
   "metadata": {},
   "outputs": [],
   "source": []
  }
 ],
 "metadata": {
  "kernelspec": {
   "display_name": "Django Shell-Plus",
   "language": "python",
   "name": "django_extensions"
  },
  "language_info": {
   "codemirror_mode": {
    "name": "ipython",
    "version": 3
   },
   "file_extension": ".py",
   "mimetype": "text/x-python",
   "name": "python",
   "nbconvert_exporter": "python",
   "pygments_lexer": "ipython3",
   "version": "3.6.1"
  }
 },
 "nbformat": 4,
 "nbformat_minor": 2
}
