{
 "cells": [
  {
   "cell_type": "markdown",
   "metadata": {},
   "source": [
    "## Insert PatientDatasets into Database\n",
    "- [ ] exp.json => Exps\n",
    "- [ ] info.json => Patients\n",
    "- [ ] normal.csv => Inspections"
   ]
  },
  {
   "cell_type": "code",
   "execution_count": 8,
   "metadata": {},
   "outputs": [
    {
     "name": "stdout",
     "output_type": "stream",
     "text": [
      "AUTHORS               \u001b[34mapp\u001b[m\u001b[m                   supervisor-app.conf\r\n",
      "Dockerfile            \u001b[32mapp.sock\u001b[m\u001b[m              uwsgi.ini\r\n",
      "Dockerfile-py2        insert_datasets.ipynb uwsgi_params\r\n",
      "\u001b[34mPatientsDataset\u001b[m\u001b[m       nginx-app.conf\r\n",
      "README.md             requirements.txt\r\n"
     ]
    }
   ],
   "source": [
    "!ls"
   ]
  },
  {
   "cell_type": "code",
   "execution_count": 16,
   "metadata": {},
   "outputs": [],
   "source": [
    "import pandas as pd\n",
    "import json\n",
    "import glob\n",
    "import os"
   ]
  },
  {
   "cell_type": "code",
   "execution_count": 11,
   "metadata": {},
   "outputs": [],
   "source": [
    "head_dir = \"./PatientsDataset\"\n",
    "query = \"patient*\"\n",
    "patient_dir_list = glob.glob(os.path.join(head_dir,query))"
   ]
  },
  {
   "cell_type": "code",
   "execution_count": null,
   "metadata": {},
   "outputs": [],
   "source": [
    "normal_file = \"normal.csv\"\n",
    "info_file = \"info.json\"\n",
    "exp_html_file = \"exp.html\"\n",
    "exp_json_file = \"exp.json\""
   ]
  },
  {
   "cell_type": "code",
   "execution_count": 33,
   "metadata": {},
   "outputs": [],
   "source": [
    "Patient.objects.update_or_create?"
   ]
  },
  {
   "cell_type": "code",
   "execution_count": 44,
   "metadata": {},
   "outputs": [],
   "source": [
    "def InsertPatient(info_json, patient_id):\n",
    "    info_json[\"patient_text\"] = \"patient \" + str(info_json[\"patient_id\"])\n",
    "    del info_json[\"patient_id\"]\n",
    "    result, created = Patient.objects.update_or_create(\n",
    "        id=patient_id,\n",
    "        defaults=info_json,\n",
    "    )\n",
    "\n",
    "def InsertExp(exp_json, patient_id):\n",
    "    \"\"\"\n",
    "    ExpをDatabaseにInsert\n",
    "    arg:\n",
    "    exp_json ( = '{\"ALB t_0 < 3.3\": 0.1,\"BUN\": 0.05}')\n",
    "    \"\"\"\n",
    "    for k, v in exp_json.items():\n",
    "        Exp.objects.update_or_create(\n",
    "            patient=Patient(patient_id),\n",
    "            cond_exp=k,\n",
    "            defaults={\"contribution\":v},\n",
    "        )\n",
    "        print(patient_id, k, v)\n",
    "        \n",
    "        \n",
    "def InsertInspection():\n",
    "    pass\n",
    "\n",
    "def insert_dataset():\n",
    "    head_dir = \"./PatientsDataset\"\n",
    "    query = \"patient*\"\n",
    "    normal_file = \"normal.csv\"\n",
    "    info_file = \"info.json\"\n",
    "    exp_html_file = \"exp.html\"\n",
    "    exp_json_file = \"exp.json\"\n",
    "    patient_dir_list = glob.glob(os.path.join(head_dir,query))\n",
    "    for patient_dir in patient_dir_list:\n",
    "        patient_id = int(os.path.basename(patient_dir)[7:])\n",
    "        normal_path = os.path.join(patient_dir, normal_file)\n",
    "        info_path = os.path.join(patient_dir, info_file)\n",
    "        exp_html_path = os.path.join(patient_dir, exp_html_file)\n",
    "        exp_json_path = os.path.join(patient_dir, exp_json_file)\n",
    "        patient_df = pd.read_csv(normal_path)\n",
    "        with open(info_path, \"r\") as f:\n",
    "            info_json = json.load(f)\n",
    "        with open(exp_json_path, \"r\") as f:\n",
    "            exp_json = json.load(f)\n",
    "        InsertPatient(info_json, patient_id)\n",
    "        InsertExp(exp_json, patient_id)\n",
    "        \n",
    "        "
   ]
  },
  {
   "cell_type": "code",
   "execution_count": 45,
   "metadata": {},
   "outputs": [
    {
     "ename": "NameError",
     "evalue": "name 'arg_dict' is not defined",
     "output_type": "error",
     "traceback": [
      "\u001b[0;31m---------------------------------------------------------------------------\u001b[0m",
      "\u001b[0;31mNameError\u001b[0m                                 Traceback (most recent call last)",
      "\u001b[0;32m<ipython-input-45-52b5bd1811b8>\u001b[0m in \u001b[0;36m<module>\u001b[0;34m()\u001b[0m\n\u001b[0;32m----> 1\u001b[0;31m \u001b[0minsert_dataset\u001b[0m\u001b[0;34m(\u001b[0m\u001b[0;34m)\u001b[0m\u001b[0;34m\u001b[0m\u001b[0m\n\u001b[0m",
      "\u001b[0;32m<ipython-input-44-23a5bf435707>\u001b[0m in \u001b[0;36minsert_dataset\u001b[0;34m()\u001b[0m\n\u001b[1;32m     45\u001b[0m             \u001b[0mexp_json\u001b[0m \u001b[0;34m=\u001b[0m \u001b[0mjson\u001b[0m\u001b[0;34m.\u001b[0m\u001b[0mload\u001b[0m\u001b[0;34m(\u001b[0m\u001b[0mf\u001b[0m\u001b[0;34m)\u001b[0m\u001b[0;34m\u001b[0m\u001b[0m\n\u001b[1;32m     46\u001b[0m         \u001b[0mInsertPatient\u001b[0m\u001b[0;34m(\u001b[0m\u001b[0minfo_json\u001b[0m\u001b[0;34m,\u001b[0m \u001b[0mpatient_id\u001b[0m\u001b[0;34m)\u001b[0m\u001b[0;34m\u001b[0m\u001b[0m\n\u001b[0;32m---> 47\u001b[0;31m         \u001b[0mInsertExp\u001b[0m\u001b[0;34m(\u001b[0m\u001b[0mexp_json\u001b[0m\u001b[0;34m,\u001b[0m \u001b[0mpatient_id\u001b[0m\u001b[0;34m)\u001b[0m\u001b[0;34m\u001b[0m\u001b[0m\n\u001b[0m\u001b[1;32m     48\u001b[0m \u001b[0;34m\u001b[0m\u001b[0m\n\u001b[1;32m     49\u001b[0m \u001b[0;34m\u001b[0m\u001b[0m\n",
      "\u001b[0;32m<ipython-input-44-23a5bf435707>\u001b[0m in \u001b[0;36mInsertExp\u001b[0;34m(exp_json, patient_id)\u001b[0m\n\u001b[1;32m     19\u001b[0m             \u001b[0mdefaults\u001b[0m\u001b[0;34m=\u001b[0m\u001b[0;34m{\u001b[0m\u001b[0;34m\"contribution\"\u001b[0m\u001b[0;34m:\u001b[0m\u001b[0mv\u001b[0m\u001b[0;34m}\u001b[0m\u001b[0;34m,\u001b[0m\u001b[0;34m\u001b[0m\u001b[0m\n\u001b[1;32m     20\u001b[0m         )\n\u001b[0;32m---> 21\u001b[0;31m         \u001b[0mprint\u001b[0m\u001b[0;34m(\u001b[0m\u001b[0mpatient_id\u001b[0m\u001b[0;34m,\u001b[0m \u001b[0marg_dict\u001b[0m\u001b[0;34m)\u001b[0m\u001b[0;34m\u001b[0m\u001b[0m\n\u001b[0m\u001b[1;32m     22\u001b[0m \u001b[0;34m\u001b[0m\u001b[0m\n\u001b[1;32m     23\u001b[0m \u001b[0;34m\u001b[0m\u001b[0m\n",
      "\u001b[0;31mNameError\u001b[0m: name 'arg_dict' is not defined"
     ]
    }
   ],
   "source": [
    "insert_dataset()"
   ]
  },
  {
   "cell_type": "code",
   "execution_count": 26,
   "metadata": {},
   "outputs": [
    {
     "data": {
      "text/plain": [
       "True"
      ]
     },
     "execution_count": 26,
     "metadata": {},
     "output_type": "execute_result"
    }
   ],
   "source": [
    "os.path.exists(\"./PatientsDataset\")"
   ]
  },
  {
   "cell_type": "code",
   "execution_count": 27,
   "metadata": {},
   "outputs": [
    {
     "name": "stdout",
     "output_type": "stream",
     "text": [
      "\u001b[34mpatient10000\u001b[m\u001b[m \u001b[34mpatient10002\u001b[m\u001b[m \u001b[34mpatient10004\u001b[m\u001b[m \u001b[34mpatient10006\u001b[m\u001b[m \u001b[34mpatient10008\u001b[m\u001b[m\r\n",
      "\u001b[34mpatient10001\u001b[m\u001b[m \u001b[34mpatient10003\u001b[m\u001b[m \u001b[34mpatient10005\u001b[m\u001b[m \u001b[34mpatient10007\u001b[m\u001b[m \u001b[34mpatient10009\u001b[m\u001b[m\r\n"
     ]
    }
   ],
   "source": [
    "!ls PatientsDataset/"
   ]
  },
  {
   "cell_type": "code",
   "execution_count": 12,
   "metadata": {},
   "outputs": [],
   "source": [
    "test = './PatientsDataset/patient1'"
   ]
  },
  {
   "cell_type": "code",
   "execution_count": null,
   "metadata": {},
   "outputs": [],
   "source": []
  },
  {
   "cell_type": "code",
   "execution_count": 15,
   "metadata": {},
   "outputs": [
    {
     "data": {
      "text/plain": [
       "'1'"
      ]
     },
     "execution_count": 15,
     "metadata": {},
     "output_type": "execute_result"
    }
   ],
   "source": [
    "os.path.basename(test)[7:]"
   ]
  },
  {
   "cell_type": "code",
   "execution_count": 14,
   "metadata": {},
   "outputs": [],
   "source": [
    "import re"
   ]
  },
  {
   "cell_type": "code",
   "execution_count": null,
   "metadata": {},
   "outputs": [],
   "source": []
  }
 ],
 "metadata": {
  "kernelspec": {
   "display_name": "Django Shell-Plus",
   "language": "python",
   "name": "django_extensions"
  },
  "language_info": {
   "codemirror_mode": {
    "name": "ipython",
    "version": 3
   },
   "file_extension": ".py",
   "mimetype": "text/x-python",
   "name": "python",
   "nbconvert_exporter": "python",
   "pygments_lexer": "ipython3",
   "version": "3.6.1"
  }
 },
 "nbformat": 4,
 "nbformat_minor": 2
}
