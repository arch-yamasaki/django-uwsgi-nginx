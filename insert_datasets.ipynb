{
 "cells": [
  {
   "cell_type": "markdown",
   "metadata": {},
   "source": [
    "## Insert PatientDatasets into Database\n",
    "- [ ] exp.json => Exps\n",
    "- [ ] info.json => Patients\n",
    "- [ ] normal.csv => Inspections"
   ]
  },
  {
   "cell_type": "code",
   "execution_count": 39,
   "metadata": {},
   "outputs": [],
   "source": [
    "import pandas as pd\n",
    "import json\n",
    "import glob\n",
    "import os\n",
    "from IPython.display import display\n",
    "from django.shortcuts import render, get_object_or_404, get_list_or_404"
   ]
  },
  {
   "cell_type": "code",
   "execution_count": 7,
   "metadata": {},
   "outputs": [],
   "source": [
    "def InsertPatient(info_json, patient_id):\n",
    "    info_json[\"patient_text\"] = \"patient \" + str(info_json[\"patient_id\"])\n",
    "    del info_json[\"patient_id\"]\n",
    "    result, created = Patient.objects.update_or_create(\n",
    "        id=patient_id,\n",
    "        defaults=info_json,\n",
    "    )\n",
    "\n",
    "def InsertExp(exp_json, patient_id):\n",
    "    \"\"\"\n",
    "    ExpをDatabaseにInsert\n",
    "    arg:\n",
    "    exp_json ( = '{\"ALB t_0 < 3.3\": 0.1,\"BUN\": 0.05}')\n",
    "    \"\"\"\n",
    "    \n",
    "    for k, v in exp_json.items():\n",
    "        Exp.objects.update_or_create(\n",
    "            patient=Patient(patient_id),\n",
    "            cond_exp=k,\n",
    "            defaults={\"contribution\":v},\n",
    "        )\n",
    "\n",
    "        \n",
    "        \n",
    "def InsertInspection(patient_df, patient_id):\n",
    "    \"\"\"\n",
    "    InspectionをDatabaseにInsert\n",
    "    arg:\n",
    "    patient_df (require : index = Time, cloums = InspectionItems)\n",
    "    \"\"\"\n",
    "    \n",
    "    for item in patient_df:\n",
    "        for date, value in patient_df[item].items():\n",
    "            Inspection.objects.update_or_create(\n",
    "                patient=Patient(patient_id),\n",
    "                inspection_date = date,\n",
    "                inspection_item = item,\n",
    "                defaults={\"inspection_value\" : value},\n",
    "            )\n",
    "\n",
    "def insert_dataset():\n",
    "    head_dir = \"./PatientsDataset\"\n",
    "    query = \"patient*\"\n",
    "    normal_file = \"normal.csv\"\n",
    "    info_file = \"info.json\"\n",
    "    exp_html_file = \"exp.html\"\n",
    "    exp_json_file = \"exp.json\"\n",
    "    patient_dir_list = glob.glob(os.path.join(head_dir,query))\n",
    "    for patient_dir in patient_dir_list:\n",
    "        patient_id = int(os.path.basename(patient_dir)[7:])\n",
    "        normal_path = os.path.join(patient_dir, normal_file)\n",
    "        info_path = os.path.join(patient_dir, info_file)\n",
    "        exp_html_path = os.path.join(patient_dir, exp_html_file)\n",
    "        exp_json_path = os.path.join(patient_dir, exp_json_file)\n",
    "        patient_df = pd.read_csv(normal_path, index_col=0)\n",
    "        if patient_id == 10000:\n",
    "            pass\n",
    "        with open(info_path, \"r\") as f:\n",
    "            info_json = json.load(f)\n",
    "        with open(exp_json_path, \"r\") as f:\n",
    "            exp_json = json.load(f)\n",
    "        InsertPatient(info_json, patient_id)\n",
    "        InsertExp(exp_json, patient_id)\n",
    "        InsertInspection(patient_df, patient_id)\n",
    "        \n",
    "        "
   ]
  },
  {
   "cell_type": "code",
   "execution_count": 8,
   "metadata": {},
   "outputs": [],
   "source": [
    "insert_dataset()"
   ]
  },
  {
   "cell_type": "code",
   "execution_count": null,
   "metadata": {},
   "outputs": [],
   "source": []
  },
  {
   "cell_type": "markdown",
   "metadata": {},
   "source": [
    "## Test\n",
    "色々実験する"
   ]
  },
  {
   "cell_type": "code",
   "execution_count": 9,
   "metadata": {},
   "outputs": [],
   "source": [
    "patient_num = Patient.objects.count() // 3"
   ]
  },
  {
   "cell_type": "code",
   "execution_count": 11,
   "metadata": {},
   "outputs": [],
   "source": [
    "div = Patient.objects.count() // 3"
   ]
  },
  {
   "cell_type": "code",
   "execution_count": 20,
   "metadata": {},
   "outputs": [
    {
     "data": {
      "text/plain": [
       "<QuerySet [(10000,), (10001,), (10002,), (10003,), (10004,), (10005,), (10006,), (10007,), (10008,), (10009,)]>"
      ]
     },
     "execution_count": 20,
     "metadata": {},
     "output_type": "execute_result"
    }
   ],
   "source": [
    "Patient.objects.values_list(\"\")"
   ]
  },
  {
   "cell_type": "code",
   "execution_count": 36,
   "metadata": {},
   "outputs": [],
   "source": [
    "test_id = \"A\"\n",
    "order_value = 1"
   ]
  },
  {
   "cell_type": "code",
   "execution_count": 49,
   "metadata": {},
   "outputs": [],
   "source": [
    "div = Patient.objects.count() // 3\n",
    "# order_value = request.user.id % 3\n",
    "base_dict = {\"A\":0, \"B\":1, \"C\":2}\n",
    "start = ((base_dict[test_id] + order_value) % 3) * div\n",
    "end = start + div\n",
    "# patient_list = Patient.objects.values_list()[start: end]\n",
    "patient_list = get_list_or_404(Patient)[start:end]"
   ]
  },
  {
   "cell_type": "code",
   "execution_count": 51,
   "metadata": {},
   "outputs": [
    {
     "data": {
      "text/plain": [
       "[<Patient: patient 10003>, <Patient: patient 10004>, <Patient: patient 10005>]"
      ]
     },
     "execution_count": 51,
     "metadata": {},
     "output_type": "execute_result"
    }
   ],
   "source": [
    "patient_list"
   ]
  },
  {
   "cell_type": "code",
   "execution_count": null,
   "metadata": {},
   "outputs": [],
   "source": []
  },
  {
   "cell_type": "code",
   "execution_count": null,
   "metadata": {},
   "outputs": [],
   "source": []
  },
  {
   "cell_type": "code",
   "execution_count": null,
   "metadata": {},
   "outputs": [],
   "source": []
  },
  {
   "cell_type": "code",
   "execution_count": 54,
   "metadata": {},
   "outputs": [],
   "source": [
    "test_list = get_list_or_404(Inspection, patient=10001)"
   ]
  },
  {
   "cell_type": "code",
   "execution_count": 57,
   "metadata": {},
   "outputs": [
    {
     "data": {
      "text/plain": [
       "[<Inspection: name:patient 10001 | date:2019-11-14 | item:ALB>,\n",
       " <Inspection: name:patient 10001 | date:2019-11-15 | item:ALB>,\n",
       " <Inspection: name:patient 10001 | date:2019-11-16 | item:ALB>,\n",
       " <Inspection: name:patient 10001 | date:2019-11-17 | item:ALB>,\n",
       " <Inspection: name:patient 10001 | date:2019-11-18 | item:ALB>,\n",
       " <Inspection: name:patient 10001 | date:2019-11-19 | item:ALB>,\n",
       " <Inspection: name:patient 10001 | date:2019-11-20 | item:ALB>,\n",
       " <Inspection: name:patient 10001 | date:2019-11-21 | item:ALB>,\n",
       " <Inspection: name:patient 10001 | date:2019-11-22 | item:ALB>,\n",
       " <Inspection: name:patient 10001 | date:2019-11-23 | item:ALB>,\n",
       " <Inspection: name:patient 10001 | date:2019-11-24 | item:ALB>,\n",
       " <Inspection: name:patient 10001 | date:2019-11-25 | item:ALB>,\n",
       " <Inspection: name:patient 10001 | date:2019-11-26 | item:ALB>,\n",
       " <Inspection: name:patient 10001 | date:2019-11-14 | item:BUN>,\n",
       " <Inspection: name:patient 10001 | date:2019-11-15 | item:BUN>,\n",
       " <Inspection: name:patient 10001 | date:2019-11-16 | item:BUN>,\n",
       " <Inspection: name:patient 10001 | date:2019-11-17 | item:BUN>,\n",
       " <Inspection: name:patient 10001 | date:2019-11-18 | item:BUN>,\n",
       " <Inspection: name:patient 10001 | date:2019-11-19 | item:BUN>,\n",
       " <Inspection: name:patient 10001 | date:2019-11-20 | item:BUN>,\n",
       " <Inspection: name:patient 10001 | date:2019-11-21 | item:BUN>,\n",
       " <Inspection: name:patient 10001 | date:2019-11-22 | item:BUN>,\n",
       " <Inspection: name:patient 10001 | date:2019-11-23 | item:BUN>,\n",
       " <Inspection: name:patient 10001 | date:2019-11-24 | item:BUN>,\n",
       " <Inspection: name:patient 10001 | date:2019-11-25 | item:BUN>,\n",
       " <Inspection: name:patient 10001 | date:2019-11-26 | item:BUN>,\n",
       " <Inspection: name:patient 10001 | date:2019-11-14 | item:CRE>,\n",
       " <Inspection: name:patient 10001 | date:2019-11-15 | item:CRE>,\n",
       " <Inspection: name:patient 10001 | date:2019-11-16 | item:CRE>,\n",
       " <Inspection: name:patient 10001 | date:2019-11-17 | item:CRE>,\n",
       " <Inspection: name:patient 10001 | date:2019-11-18 | item:CRE>,\n",
       " <Inspection: name:patient 10001 | date:2019-11-19 | item:CRE>,\n",
       " <Inspection: name:patient 10001 | date:2019-11-20 | item:CRE>,\n",
       " <Inspection: name:patient 10001 | date:2019-11-21 | item:CRE>,\n",
       " <Inspection: name:patient 10001 | date:2019-11-22 | item:CRE>,\n",
       " <Inspection: name:patient 10001 | date:2019-11-23 | item:CRE>,\n",
       " <Inspection: name:patient 10001 | date:2019-11-24 | item:CRE>,\n",
       " <Inspection: name:patient 10001 | date:2019-11-25 | item:CRE>,\n",
       " <Inspection: name:patient 10001 | date:2019-11-26 | item:CRE>,\n",
       " <Inspection: name:patient 10001 | date:2019-11-14 | item:CRP>,\n",
       " <Inspection: name:patient 10001 | date:2019-11-15 | item:CRP>,\n",
       " <Inspection: name:patient 10001 | date:2019-11-16 | item:CRP>,\n",
       " <Inspection: name:patient 10001 | date:2019-11-17 | item:CRP>,\n",
       " <Inspection: name:patient 10001 | date:2019-11-18 | item:CRP>,\n",
       " <Inspection: name:patient 10001 | date:2019-11-19 | item:CRP>,\n",
       " <Inspection: name:patient 10001 | date:2019-11-20 | item:CRP>,\n",
       " <Inspection: name:patient 10001 | date:2019-11-21 | item:CRP>,\n",
       " <Inspection: name:patient 10001 | date:2019-11-22 | item:CRP>,\n",
       " <Inspection: name:patient 10001 | date:2019-11-23 | item:CRP>,\n",
       " <Inspection: name:patient 10001 | date:2019-11-24 | item:CRP>,\n",
       " <Inspection: name:patient 10001 | date:2019-11-25 | item:CRP>,\n",
       " <Inspection: name:patient 10001 | date:2019-11-26 | item:CRP>,\n",
       " <Inspection: name:patient 10001 | date:2019-11-14 | item:Ca>,\n",
       " <Inspection: name:patient 10001 | date:2019-11-15 | item:Ca>,\n",
       " <Inspection: name:patient 10001 | date:2019-11-16 | item:Ca>,\n",
       " <Inspection: name:patient 10001 | date:2019-11-17 | item:Ca>,\n",
       " <Inspection: name:patient 10001 | date:2019-11-18 | item:Ca>,\n",
       " <Inspection: name:patient 10001 | date:2019-11-19 | item:Ca>,\n",
       " <Inspection: name:patient 10001 | date:2019-11-20 | item:Ca>,\n",
       " <Inspection: name:patient 10001 | date:2019-11-21 | item:Ca>,\n",
       " <Inspection: name:patient 10001 | date:2019-11-22 | item:Ca>,\n",
       " <Inspection: name:patient 10001 | date:2019-11-23 | item:Ca>,\n",
       " <Inspection: name:patient 10001 | date:2019-11-24 | item:Ca>,\n",
       " <Inspection: name:patient 10001 | date:2019-11-25 | item:Ca>,\n",
       " <Inspection: name:patient 10001 | date:2019-11-26 | item:Ca>,\n",
       " <Inspection: name:patient 10001 | date:2019-11-14 | item:Cl>,\n",
       " <Inspection: name:patient 10001 | date:2019-11-15 | item:Cl>,\n",
       " <Inspection: name:patient 10001 | date:2019-11-16 | item:Cl>,\n",
       " <Inspection: name:patient 10001 | date:2019-11-17 | item:Cl>,\n",
       " <Inspection: name:patient 10001 | date:2019-11-18 | item:Cl>,\n",
       " <Inspection: name:patient 10001 | date:2019-11-19 | item:Cl>,\n",
       " <Inspection: name:patient 10001 | date:2019-11-20 | item:Cl>,\n",
       " <Inspection: name:patient 10001 | date:2019-11-21 | item:Cl>,\n",
       " <Inspection: name:patient 10001 | date:2019-11-22 | item:Cl>,\n",
       " <Inspection: name:patient 10001 | date:2019-11-23 | item:Cl>,\n",
       " <Inspection: name:patient 10001 | date:2019-11-24 | item:Cl>,\n",
       " <Inspection: name:patient 10001 | date:2019-11-25 | item:Cl>,\n",
       " <Inspection: name:patient 10001 | date:2019-11-26 | item:Cl>,\n",
       " <Inspection: name:patient 10001 | date:2019-11-14 | item:IP>,\n",
       " <Inspection: name:patient 10001 | date:2019-11-15 | item:IP>,\n",
       " <Inspection: name:patient 10001 | date:2019-11-16 | item:IP>,\n",
       " <Inspection: name:patient 10001 | date:2019-11-17 | item:IP>,\n",
       " <Inspection: name:patient 10001 | date:2019-11-18 | item:IP>,\n",
       " <Inspection: name:patient 10001 | date:2019-11-19 | item:IP>,\n",
       " <Inspection: name:patient 10001 | date:2019-11-20 | item:IP>,\n",
       " <Inspection: name:patient 10001 | date:2019-11-21 | item:IP>,\n",
       " <Inspection: name:patient 10001 | date:2019-11-22 | item:IP>,\n",
       " <Inspection: name:patient 10001 | date:2019-11-23 | item:IP>,\n",
       " <Inspection: name:patient 10001 | date:2019-11-24 | item:IP>,\n",
       " <Inspection: name:patient 10001 | date:2019-11-25 | item:IP>,\n",
       " <Inspection: name:patient 10001 | date:2019-11-26 | item:IP>,\n",
       " <Inspection: name:patient 10001 | date:2019-11-14 | item:K>,\n",
       " <Inspection: name:patient 10001 | date:2019-11-15 | item:K>,\n",
       " <Inspection: name:patient 10001 | date:2019-11-16 | item:K>,\n",
       " <Inspection: name:patient 10001 | date:2019-11-17 | item:K>,\n",
       " <Inspection: name:patient 10001 | date:2019-11-18 | item:K>,\n",
       " <Inspection: name:patient 10001 | date:2019-11-19 | item:K>,\n",
       " <Inspection: name:patient 10001 | date:2019-11-20 | item:K>,\n",
       " <Inspection: name:patient 10001 | date:2019-11-21 | item:K>,\n",
       " <Inspection: name:patient 10001 | date:2019-11-22 | item:K>,\n",
       " <Inspection: name:patient 10001 | date:2019-11-23 | item:K>,\n",
       " <Inspection: name:patient 10001 | date:2019-11-24 | item:K>,\n",
       " <Inspection: name:patient 10001 | date:2019-11-25 | item:K>,\n",
       " <Inspection: name:patient 10001 | date:2019-11-26 | item:K>,\n",
       " <Inspection: name:patient 10001 | date:2019-11-14 | item:Na>,\n",
       " <Inspection: name:patient 10001 | date:2019-11-15 | item:Na>,\n",
       " <Inspection: name:patient 10001 | date:2019-11-16 | item:Na>,\n",
       " <Inspection: name:patient 10001 | date:2019-11-17 | item:Na>,\n",
       " <Inspection: name:patient 10001 | date:2019-11-18 | item:Na>,\n",
       " <Inspection: name:patient 10001 | date:2019-11-19 | item:Na>,\n",
       " <Inspection: name:patient 10001 | date:2019-11-20 | item:Na>,\n",
       " <Inspection: name:patient 10001 | date:2019-11-21 | item:Na>,\n",
       " <Inspection: name:patient 10001 | date:2019-11-22 | item:Na>,\n",
       " <Inspection: name:patient 10001 | date:2019-11-23 | item:Na>,\n",
       " <Inspection: name:patient 10001 | date:2019-11-24 | item:Na>,\n",
       " <Inspection: name:patient 10001 | date:2019-11-25 | item:Na>,\n",
       " <Inspection: name:patient 10001 | date:2019-11-26 | item:Na>,\n",
       " <Inspection: name:patient 10001 | date:2019-11-14 | item:T-CHO>,\n",
       " <Inspection: name:patient 10001 | date:2019-11-15 | item:T-CHO>,\n",
       " <Inspection: name:patient 10001 | date:2019-11-16 | item:T-CHO>,\n",
       " <Inspection: name:patient 10001 | date:2019-11-17 | item:T-CHO>,\n",
       " <Inspection: name:patient 10001 | date:2019-11-18 | item:T-CHO>,\n",
       " <Inspection: name:patient 10001 | date:2019-11-19 | item:T-CHO>,\n",
       " <Inspection: name:patient 10001 | date:2019-11-20 | item:T-CHO>,\n",
       " <Inspection: name:patient 10001 | date:2019-11-21 | item:T-CHO>,\n",
       " <Inspection: name:patient 10001 | date:2019-11-22 | item:T-CHO>,\n",
       " <Inspection: name:patient 10001 | date:2019-11-23 | item:T-CHO>,\n",
       " <Inspection: name:patient 10001 | date:2019-11-24 | item:T-CHO>,\n",
       " <Inspection: name:patient 10001 | date:2019-11-25 | item:T-CHO>,\n",
       " <Inspection: name:patient 10001 | date:2019-11-26 | item:T-CHO>,\n",
       " <Inspection: name:patient 10001 | date:2019-11-14 | item:PCR>,\n",
       " <Inspection: name:patient 10001 | date:2019-11-15 | item:PCR>,\n",
       " <Inspection: name:patient 10001 | date:2019-11-16 | item:PCR>,\n",
       " <Inspection: name:patient 10001 | date:2019-11-17 | item:PCR>,\n",
       " <Inspection: name:patient 10001 | date:2019-11-18 | item:PCR>,\n",
       " <Inspection: name:patient 10001 | date:2019-11-19 | item:PCR>,\n",
       " <Inspection: name:patient 10001 | date:2019-11-20 | item:PCR>,\n",
       " <Inspection: name:patient 10001 | date:2019-11-21 | item:PCR>,\n",
       " <Inspection: name:patient 10001 | date:2019-11-22 | item:PCR>,\n",
       " <Inspection: name:patient 10001 | date:2019-11-23 | item:PCR>,\n",
       " <Inspection: name:patient 10001 | date:2019-11-24 | item:PCR>,\n",
       " <Inspection: name:patient 10001 | date:2019-11-25 | item:PCR>,\n",
       " <Inspection: name:patient 10001 | date:2019-11-26 | item:PCR>,\n",
       " <Inspection: name:patient 10001 | date:2019-11-14 | item:TP>,\n",
       " <Inspection: name:patient 10001 | date:2019-11-15 | item:TP>,\n",
       " <Inspection: name:patient 10001 | date:2019-11-16 | item:TP>,\n",
       " <Inspection: name:patient 10001 | date:2019-11-17 | item:TP>,\n",
       " <Inspection: name:patient 10001 | date:2019-11-18 | item:TP>,\n",
       " <Inspection: name:patient 10001 | date:2019-11-19 | item:TP>,\n",
       " <Inspection: name:patient 10001 | date:2019-11-20 | item:TP>,\n",
       " <Inspection: name:patient 10001 | date:2019-11-21 | item:TP>,\n",
       " <Inspection: name:patient 10001 | date:2019-11-22 | item:TP>,\n",
       " <Inspection: name:patient 10001 | date:2019-11-23 | item:TP>,\n",
       " <Inspection: name:patient 10001 | date:2019-11-24 | item:TP>,\n",
       " <Inspection: name:patient 10001 | date:2019-11-25 | item:TP>,\n",
       " <Inspection: name:patient 10001 | date:2019-11-26 | item:TP>,\n",
       " <Inspection: name:patient 10001 | date:2020-07-13 | item:ALB>,\n",
       " <Inspection: name:patient 10001 | date:2020-07-13 | item:BUN>,\n",
       " <Inspection: name:patient 10001 | date:2020-07-13 | item:CRE>,\n",
       " <Inspection: name:patient 10001 | date:2020-07-13 | item:CRP>,\n",
       " <Inspection: name:patient 10001 | date:2020-07-13 | item:Ca>,\n",
       " <Inspection: name:patient 10001 | date:2020-07-13 | item:Cl>,\n",
       " <Inspection: name:patient 10001 | date:2020-07-13 | item:IP>,\n",
       " <Inspection: name:patient 10001 | date:2020-07-13 | item:K>,\n",
       " <Inspection: name:patient 10001 | date:2020-07-13 | item:Na>,\n",
       " <Inspection: name:patient 10001 | date:2020-07-13 | item:T-CHO>,\n",
       " <Inspection: name:patient 10001 | date:2020-07-13 | item:PCR>,\n",
       " <Inspection: name:patient 10001 | date:2020-07-13 | item:TP>]"
      ]
     },
     "execution_count": 57,
     "metadata": {},
     "output_type": "execute_result"
    }
   ],
   "source": [
    "test_list"
   ]
  },
  {
   "cell_type": "code",
   "execution_count": 39,
   "metadata": {},
   "outputs": [],
   "source": [
    "test = Inspection.objects.filter(patient=10001, inspection_item=\"ALB\").values_list(\"inspection_date\", flat=True)"
   ]
  },
  {
   "cell_type": "code",
   "execution_count": 40,
   "metadata": {},
   "outputs": [
    {
     "name": "stdout",
     "output_type": "stream",
     "text": [
      "2019-11-14\n",
      "2019-11-15\n",
      "2019-11-16\n",
      "2019-11-17\n",
      "2019-11-18\n",
      "2019-11-19\n",
      "2019-11-20\n",
      "2019-11-21\n",
      "2019-11-22\n",
      "2019-11-23\n",
      "2019-11-24\n",
      "2019-11-25\n",
      "2019-11-26\n",
      "2020-07-13\n"
     ]
    }
   ],
   "source": [
    "for w in test:\n",
    "    print(w)"
   ]
  },
  {
   "cell_type": "code",
   "execution_count": 68,
   "metadata": {},
   "outputs": [],
   "source": [
    "inspections = Inspection.objects.filter(patient=10001).order_by(\"inspection_item\", \"inspection_date\")"
   ]
  },
  {
   "cell_type": "code",
   "execution_count": 78,
   "metadata": {},
   "outputs": [],
   "source": [
    "item_list = [\"ALB\",\"BUN\",\"CRE\",\"CRP\",\"Ca\",\"Cl\",\"IP\",\"K\",\"Na\",\"T-CHO\",\"PCR\", \"TP\"]"
   ]
  },
  {
   "cell_type": "code",
   "execution_count": 82,
   "metadata": {},
   "outputs": [],
   "source": [
    "patient_id = 10001"
   ]
  },
  {
   "cell_type": "code",
   "execution_count": 83,
   "metadata": {},
   "outputs": [],
   "source": [
    "inspection_array = [Inspection.objects.filter(patient=patient_id, inspection_item=item).order_by(\"inspection_item\").values_list(\"inspection_value\", flat=True) for item in item_list]"
   ]
  },
  {
   "cell_type": "code",
   "execution_count": 93,
   "metadata": {},
   "outputs": [
    {
     "name": "stdout",
     "output_type": "stream",
     "text": [
      "532.7264744400383\n",
      "868.6708342917128\n",
      "643.2449991513897\n",
      "741.2646839361197\n",
      "1071.7092420905212\n",
      "1018.8984955336026\n",
      "1045.1286128059241\n",
      "231.01155425407208\n",
      "1053.588974795359\n",
      "876.1678292660613\n",
      "777.847931829908\n",
      "1109.0951806553371\n",
      "770.2579246010814\n",
      "None\n"
     ]
    }
   ],
   "source": [
    "for w in inspection_array[-2]:\n",
    "    print(w)"
   ]
  },
  {
   "cell_type": "code",
   "execution_count": 62,
   "metadata": {},
   "outputs": [
    {
     "name": "stdout",
     "output_type": "stream",
     "text": [
      "2019-11-14\n",
      "2019-11-15\n",
      "2019-11-16\n",
      "2019-11-17\n",
      "2019-11-18\n",
      "2019-11-19\n",
      "2019-11-20\n",
      "2019-11-21\n",
      "2019-11-22\n",
      "2019-11-23\n",
      "2019-11-24\n",
      "2019-11-25\n",
      "2019-11-26\n",
      "2020-07-13\n"
     ]
    }
   ],
   "source": [
    "for date in inspections.order_by(\"inspection_date\").values_list(\"inspection_date\", flat=True).distinct():\n",
    "    print(date)"
   ]
  },
  {
   "cell_type": "code",
   "execution_count": 66,
   "metadata": {},
   "outputs": [],
   "source": [
    "oneitem_inspection_list = inspections.get(inspection_item=\"ALB\", inspection_date=\"2019-11-14\")"
   ]
  },
  {
   "cell_type": "code",
   "execution_count": 67,
   "metadata": {},
   "outputs": [
    {
     "data": {
      "text/plain": [
       "4.1361581563891665"
      ]
     },
     "execution_count": 67,
     "metadata": {},
     "output_type": "execute_result"
    }
   ],
   "source": [
    "oneitem_inspection_list.inspection_value"
   ]
  },
  {
   "cell_type": "code",
   "execution_count": 15,
   "metadata": {},
   "outputs": [
    {
     "data": {
      "text/plain": [
       "<QuerySet [<Inspection: name:patient 10001 | date:2019-11-14 | item:ALB>, <Inspection: name:patient 10001 | date:2019-11-15 | item:ALB>, <Inspection: name:patient 10001 | date:2019-11-16 | item:ALB>, <Inspection: name:patient 10001 | date:2019-11-17 | item:ALB>, <Inspection: name:patient 10001 | date:2019-11-18 | item:ALB>, <Inspection: name:patient 10001 | date:2019-11-19 | item:ALB>, <Inspection: name:patient 10001 | date:2019-11-20 | item:ALB>, <Inspection: name:patient 10001 | date:2019-11-21 | item:ALB>, <Inspection: name:patient 10001 | date:2019-11-22 | item:ALB>, <Inspection: name:patient 10001 | date:2019-11-23 | item:ALB>, <Inspection: name:patient 10001 | date:2019-11-24 | item:ALB>, <Inspection: name:patient 10001 | date:2019-11-25 | item:ALB>, <Inspection: name:patient 10001 | date:2019-11-26 | item:ALB>, <Inspection: name:patient 10001 | date:2020-07-13 | item:ALB>]>"
      ]
     },
     "execution_count": 15,
     "metadata": {},
     "output_type": "execute_result"
    }
   ],
   "source": [
    "oneitem_inspection_list.order_by(\"inspection_date\")"
   ]
  },
  {
   "cell_type": "code",
   "execution_count": 18,
   "metadata": {},
   "outputs": [
    {
     "name": "stdout",
     "output_type": "stream",
     "text": [
      "name:patient 10001 | date:2019-11-14 | item:ALB\n",
      "name:patient 10001 | date:2019-11-15 | item:ALB\n",
      "name:patient 10001 | date:2019-11-16 | item:ALB\n",
      "name:patient 10001 | date:2019-11-17 | item:ALB\n",
      "name:patient 10001 | date:2019-11-18 | item:ALB\n",
      "name:patient 10001 | date:2019-11-19 | item:ALB\n",
      "name:patient 10001 | date:2019-11-20 | item:ALB\n",
      "name:patient 10001 | date:2019-11-21 | item:ALB\n",
      "name:patient 10001 | date:2019-11-22 | item:ALB\n",
      "name:patient 10001 | date:2019-11-23 | item:ALB\n",
      "name:patient 10001 | date:2019-11-24 | item:ALB\n",
      "name:patient 10001 | date:2019-11-25 | item:ALB\n",
      "name:patient 10001 | date:2019-11-26 | item:ALB\n",
      "name:patient 10001 | date:2020-07-13 | item:ALB\n"
     ]
    }
   ],
   "source": [
    "for w in oneitem_inspection_list.order_by(\"inspection_date\"):\n",
    "    print(w)"
   ]
  },
  {
   "cell_type": "code",
   "execution_count": 7,
   "metadata": {},
   "outputs": [
    {
     "data": {
      "text/plain": [
       "<QuerySet []>"
      ]
     },
     "execution_count": 7,
     "metadata": {},
     "output_type": "execute_result"
    }
   ],
   "source": [
    "insert_objs"
   ]
  },
  {
   "cell_type": "code",
   "execution_count": 26,
   "metadata": {},
   "outputs": [
    {
     "data": {
      "text/plain": [
       "True"
      ]
     },
     "execution_count": 26,
     "metadata": {},
     "output_type": "execute_result"
    }
   ],
   "source": [
    "os.path.exists(\"./PatientsDataset\")"
   ]
  },
  {
   "cell_type": "code",
   "execution_count": 27,
   "metadata": {},
   "outputs": [
    {
     "name": "stdout",
     "output_type": "stream",
     "text": [
      "\u001b[34mpatient10000\u001b[m\u001b[m \u001b[34mpatient10002\u001b[m\u001b[m \u001b[34mpatient10004\u001b[m\u001b[m \u001b[34mpatient10006\u001b[m\u001b[m \u001b[34mpatient10008\u001b[m\u001b[m\r\n",
      "\u001b[34mpatient10001\u001b[m\u001b[m \u001b[34mpatient10003\u001b[m\u001b[m \u001b[34mpatient10005\u001b[m\u001b[m \u001b[34mpatient10007\u001b[m\u001b[m \u001b[34mpatient10009\u001b[m\u001b[m\r\n"
     ]
    }
   ],
   "source": [
    "!ls PatientsDataset/"
   ]
  },
  {
   "cell_type": "code",
   "execution_count": 12,
   "metadata": {},
   "outputs": [],
   "source": [
    "test = './PatientsDataset/patient1'"
   ]
  },
  {
   "cell_type": "code",
   "execution_count": null,
   "metadata": {},
   "outputs": [],
   "source": []
  },
  {
   "cell_type": "code",
   "execution_count": 15,
   "metadata": {},
   "outputs": [
    {
     "data": {
      "text/plain": [
       "'1'"
      ]
     },
     "execution_count": 15,
     "metadata": {},
     "output_type": "execute_result"
    }
   ],
   "source": [
    "os.path.basename(test)[7:]"
   ]
  },
  {
   "cell_type": "code",
   "execution_count": 14,
   "metadata": {},
   "outputs": [],
   "source": [
    "import re"
   ]
  },
  {
   "cell_type": "code",
   "execution_count": null,
   "metadata": {},
   "outputs": [],
   "source": []
  }
 ],
 "metadata": {
  "kernelspec": {
   "display_name": "Django Shell-Plus",
   "language": "python",
   "name": "django_extensions"
  },
  "language_info": {
   "codemirror_mode": {
    "name": "ipython",
    "version": 3
   },
   "file_extension": ".py",
   "mimetype": "text/x-python",
   "name": "python",
   "nbconvert_exporter": "python",
   "pygments_lexer": "ipython3",
   "version": "3.6.1"
  }
 },
 "nbformat": 4,
 "nbformat_minor": 2
}
