{
 "cells": [
  {
   "cell_type": "markdown",
   "metadata": {},
   "source": [
    "## Insert PatientDatasets into Database\n",
    "- [ ] exp.json => Exps\n",
    "- [ ] info.json => Patients\n",
    "- [ ] normal.csv => Inspections"
   ]
  },
  {
   "cell_type": "code",
   "execution_count": 8,
   "metadata": {},
   "outputs": [
    {
     "name": "stdout",
     "output_type": "stream",
     "text": [
      "AUTHORS               \u001b[34mapp\u001b[m\u001b[m                   supervisor-app.conf\r\n",
      "Dockerfile            \u001b[32mapp.sock\u001b[m\u001b[m              uwsgi.ini\r\n",
      "Dockerfile-py2        insert_datasets.ipynb uwsgi_params\r\n",
      "\u001b[34mPatientsDataset\u001b[m\u001b[m       nginx-app.conf\r\n",
      "README.md             requirements.txt\r\n"
     ]
    }
   ],
   "source": [
    "!ls"
   ]
  },
  {
   "cell_type": "code",
   "execution_count": 16,
   "metadata": {},
   "outputs": [],
   "source": [
    "import pandas as pd\n",
    "import json\n",
    "import glob\n",
    "import os"
   ]
  },
  {
   "cell_type": "code",
   "execution_count": 11,
   "metadata": {},
   "outputs": [],
   "source": [
    "head_dir = \"./PatientsDataset\"\n",
    "query = \"patient*\"\n",
    "patient_dir_list = glob.glob(os.path.join(head_dir,query))"
   ]
  },
  {
   "cell_type": "code",
   "execution_count": null,
   "metadata": {},
   "outputs": [],
   "source": [
    "normal_file = \"normal.csv\"\n",
    "info_file = \"info.json\"\n",
    "exp_html_file = \"exp.html\"\n",
    "exp_json_file = \"exp.json\""
   ]
  },
  {
   "cell_type": "code",
   "execution_count": 33,
   "metadata": {},
   "outputs": [],
   "source": [
    "Patient.objects.update_or_create?"
   ]
  },
  {
   "cell_type": "code",
   "execution_count": 46,
   "metadata": {},
   "outputs": [],
   "source": [
    "def InsertPatient(info_json, patient_id):\n",
    "    info_json[\"patient_text\"] = \"patient \" + str(info_json[\"patient_id\"])\n",
    "    del info_json[\"patient_id\"]\n",
    "    result, created = Patient.objects.update_or_create(\n",
    "        id=patient_id,\n",
    "        defaults=info_json,\n",
    "    )\n",
    "\n",
    "def InsertExp(exp_json, patient_id):\n",
    "    \"\"\"\n",
    "    ExpをDatabaseにInsert\n",
    "    arg:\n",
    "    exp_json ( = '{\"ALB t_0 < 3.3\": 0.1,\"BUN\": 0.05}')\n",
    "    \"\"\"\n",
    "    for k, v in exp_json.items():\n",
    "        Exp.objects.update_or_create(\n",
    "            patient=Patient(patient_id),\n",
    "            cond_exp=k,\n",
    "            defaults={\"contribution\":v},\n",
    "        )\n",
    "        print(patient_id, k, v)\n",
    "        \n",
    "        \n",
    "def InsertInspection():\n",
    "    pass\n",
    "\n",
    "def insert_dataset():\n",
    "    head_dir = \"./PatientsDataset\"\n",
    "    query = \"patient*\"\n",
    "    normal_file = \"normal.csv\"\n",
    "    info_file = \"info.json\"\n",
    "    exp_html_file = \"exp.html\"\n",
    "    exp_json_file = \"exp.json\"\n",
    "    patient_dir_list = glob.glob(os.path.join(head_dir,query))\n",
    "    for patient_dir in patient_dir_list:\n",
    "        patient_id = int(os.path.basename(patient_dir)[7:])\n",
    "        normal_path = os.path.join(patient_dir, normal_file)\n",
    "        info_path = os.path.join(patient_dir, info_file)\n",
    "        exp_html_path = os.path.join(patient_dir, exp_html_file)\n",
    "        exp_json_path = os.path.join(patient_dir, exp_json_file)\n",
    "        patient_df = pd.read_csv(normal_path)\n",
    "        with open(info_path, \"r\") as f:\n",
    "            info_json = json.load(f)\n",
    "        with open(exp_json_path, \"r\") as f:\n",
    "            exp_json = json.load(f)\n",
    "        InsertPatient(info_json, patient_id)\n",
    "        InsertExp(exp_json, patient_id)\n",
    "        \n",
    "        "
   ]
  },
  {
   "cell_type": "code",
   "execution_count": 47,
   "metadata": {},
   "outputs": [
    {
     "name": "stdout",
     "output_type": "stream",
     "text": [
      "10000 IP 0.4398872543682142\n",
      "10000 ALB 0.4125634410619853\n",
      "10000 CRP 0.1090309828872913\n",
      "10000 K 0.7547324065891593\n",
      "10000 PCR 0.5101465845342399\n",
      "10001 CRE 0.7585278706905739\n",
      "10001 Ca 0.32925632114148495\n",
      "10001 BUN 0.29252981670089173\n",
      "10001 ALB 0.8310761883095381\n",
      "10001 IP 0.08927017027511408\n",
      "10002 Cl 0.9484336194396933\n",
      "10002 T-CHO 0.46647162632328554\n",
      "10002 IP 0.2649341432352903\n",
      "10002 ALB 0.6658763417886838\n",
      "10002 BUN 0.2491750178827411\n",
      "10003 Ca 0.789590993924747\n",
      "10003 T-CHO 0.8407725766984647\n",
      "10003 Cl 0.814395199090939\n",
      "10003 Na 0.7205176565763842\n",
      "10003 CRE 0.25430831190910197\n",
      "10004 Ca 0.6240856634538372\n",
      "10004 BUN 0.20525470834248216\n",
      "10004 Cl 0.7287003425019891\n",
      "10004 CRE 0.8151471949919927\n",
      "10004 CRP 0.3527232266282685\n",
      "10005 Na 0.6053085539079532\n",
      "10005 ALB 0.2730371086233455\n",
      "10005 BUN 0.9866693965206156\n",
      "10005 PCR 0.4039469874647169\n",
      "10005 Cl 0.3239240595748236\n",
      "10006 BUN 0.384184981002594\n",
      "10006 CRP 0.37287993906287464\n",
      "10006 Cl 0.4696785557714691\n",
      "10006 TP 0.7036933983425584\n",
      "10006 IP 0.5639971445065023\n",
      "10007 IP 0.20434153753598694\n",
      "10007 CRP 0.1990509669585926\n",
      "10007 Na 0.673368549836499\n",
      "10007 K 0.6938368318905972\n",
      "10007 ALB 0.15966013357837683\n",
      "10008 CRE 0.08940255141070652\n",
      "10008 BUN 0.041988858294714215\n",
      "10008 K 0.6797817422170748\n",
      "10008 T-CHO 0.07066963896268141\n",
      "10008 TP 0.05088054167291456\n",
      "10009 PCR 0.1527382128283371\n",
      "10009 TP 0.8387247098236701\n",
      "10009 Cl 0.6178164389361387\n",
      "10009 T-CHO 0.6615838115873119\n",
      "10009 ALB 0.35591807834460065\n"
     ]
    }
   ],
   "source": [
    "insert_dataset()"
   ]
  },
  {
   "cell_type": "code",
   "execution_count": 26,
   "metadata": {},
   "outputs": [
    {
     "data": {
      "text/plain": [
       "True"
      ]
     },
     "execution_count": 26,
     "metadata": {},
     "output_type": "execute_result"
    }
   ],
   "source": [
    "os.path.exists(\"./PatientsDataset\")"
   ]
  },
  {
   "cell_type": "code",
   "execution_count": 27,
   "metadata": {},
   "outputs": [
    {
     "name": "stdout",
     "output_type": "stream",
     "text": [
      "\u001b[34mpatient10000\u001b[m\u001b[m \u001b[34mpatient10002\u001b[m\u001b[m \u001b[34mpatient10004\u001b[m\u001b[m \u001b[34mpatient10006\u001b[m\u001b[m \u001b[34mpatient10008\u001b[m\u001b[m\r\n",
      "\u001b[34mpatient10001\u001b[m\u001b[m \u001b[34mpatient10003\u001b[m\u001b[m \u001b[34mpatient10005\u001b[m\u001b[m \u001b[34mpatient10007\u001b[m\u001b[m \u001b[34mpatient10009\u001b[m\u001b[m\r\n"
     ]
    }
   ],
   "source": [
    "!ls PatientsDataset/"
   ]
  },
  {
   "cell_type": "code",
   "execution_count": 12,
   "metadata": {},
   "outputs": [],
   "source": [
    "test = './PatientsDataset/patient1'"
   ]
  },
  {
   "cell_type": "code",
   "execution_count": null,
   "metadata": {},
   "outputs": [],
   "source": []
  },
  {
   "cell_type": "code",
   "execution_count": 15,
   "metadata": {},
   "outputs": [
    {
     "data": {
      "text/plain": [
       "'1'"
      ]
     },
     "execution_count": 15,
     "metadata": {},
     "output_type": "execute_result"
    }
   ],
   "source": [
    "os.path.basename(test)[7:]"
   ]
  },
  {
   "cell_type": "code",
   "execution_count": 14,
   "metadata": {},
   "outputs": [],
   "source": [
    "import re"
   ]
  },
  {
   "cell_type": "code",
   "execution_count": null,
   "metadata": {},
   "outputs": [],
   "source": []
  }
 ],
 "metadata": {
  "kernelspec": {
   "display_name": "Django Shell-Plus",
   "language": "python",
   "name": "django_extensions"
  },
  "language_info": {
   "codemirror_mode": {
    "name": "ipython",
    "version": 3
   },
   "file_extension": ".py",
   "mimetype": "text/x-python",
   "name": "python",
   "nbconvert_exporter": "python",
   "pygments_lexer": "ipython3",
   "version": "3.6.1"
  }
 },
 "nbformat": 4,
 "nbformat_minor": 2
}
